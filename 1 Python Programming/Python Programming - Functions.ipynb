{
 "cells": [
  {
   "cell_type": "markdown",
   "id": "069adaf4",
   "metadata": {},
   "source": [
    "#### Built-in functions"
   ]
  },
  {
   "cell_type": "code",
   "execution_count": 2,
   "id": "86d1b521",
   "metadata": {},
   "outputs": [],
   "source": [
    "x = [45,22,16,57,89]"
   ]
  },
  {
   "cell_type": "code",
   "execution_count": 3,
   "id": "75fa38d5",
   "metadata": {},
   "outputs": [
    {
     "data": {
      "text/plain": [
       "16"
      ]
     },
     "execution_count": 3,
     "metadata": {},
     "output_type": "execute_result"
    }
   ],
   "source": [
    "min(x)"
   ]
  },
  {
   "cell_type": "code",
   "execution_count": 4,
   "id": "9abeb029",
   "metadata": {},
   "outputs": [],
   "source": [
    "# min - function namr\n",
    "# x - parameter or argument\n",
    "# 16 - return value"
   ]
  },
  {
   "cell_type": "markdown",
   "id": "cd2f500c",
   "metadata": {},
   "source": [
    "#### Simple function"
   ]
  },
  {
   "cell_type": "code",
   "execution_count": 6,
   "id": "11b2960a",
   "metadata": {},
   "outputs": [],
   "source": [
    "# Function definition\n",
    "def show():\n",
    "    print('Hello World')"
   ]
  },
  {
   "cell_type": "code",
   "execution_count": 7,
   "id": "6c0ec6bd",
   "metadata": {},
   "outputs": [
    {
     "name": "stdout",
     "output_type": "stream",
     "text": [
      "Hello World\n"
     ]
    }
   ],
   "source": [
    "# Function call\n",
    "show()"
   ]
  },
  {
   "cell_type": "code",
   "execution_count": 8,
   "id": "f0923ee6",
   "metadata": {},
   "outputs": [
    {
     "name": "stdout",
     "output_type": "stream",
     "text": [
      "Hello World\n",
      "Hello World\n",
      "Hello World\n"
     ]
    }
   ],
   "source": [
    "show()\n",
    "show()\n",
    "show()"
   ]
  },
  {
   "cell_type": "code",
   "execution_count": 9,
   "id": "1c63d949",
   "metadata": {},
   "outputs": [
    {
     "name": "stdout",
     "output_type": "stream",
     "text": [
      "Hello World\n",
      "Hello World\n",
      "Hello World\n",
      "Hello World\n",
      "Hello World\n",
      "Hello World\n",
      "Hello World\n",
      "Hello World\n",
      "Hello World\n",
      "Hello World\n"
     ]
    }
   ],
   "source": [
    "for i in range(10):\n",
    "    show()"
   ]
  },
  {
   "cell_type": "markdown",
   "id": "3cd325e4",
   "metadata": {},
   "source": [
    "#### Parameterized functions"
   ]
  },
  {
   "cell_type": "code",
   "execution_count": 11,
   "id": "d2e4b8b7",
   "metadata": {},
   "outputs": [],
   "source": [
    "def square(n):   # n -> parameter\n",
    "    value = n * n\n",
    "    print('Square:', value)"
   ]
  },
  {
   "cell_type": "code",
   "execution_count": 12,
   "id": "06cc882f",
   "metadata": {},
   "outputs": [
    {
     "name": "stdout",
     "output_type": "stream",
     "text": [
      "Square: 25\n"
     ]
    }
   ],
   "source": [
    "# Function call\n",
    "square(5)"
   ]
  },
  {
   "cell_type": "code",
   "execution_count": 14,
   "id": "b3954778",
   "metadata": {},
   "outputs": [
    {
     "name": "stdout",
     "output_type": "stream",
     "text": [
      "Square: 7921\n"
     ]
    }
   ],
   "source": [
    "square(89)"
   ]
  },
  {
   "cell_type": "code",
   "execution_count": 15,
   "id": "68c01cb7",
   "metadata": {},
   "outputs": [
    {
     "name": "stdout",
     "output_type": "stream",
     "text": [
      "Square: 1209.6484\n"
     ]
    }
   ],
   "source": [
    "square(34.78)"
   ]
  },
  {
   "cell_type": "code",
   "execution_count": 16,
   "id": "ec9f66e6",
   "metadata": {},
   "outputs": [],
   "source": [
    "def large(x, y):\n",
    "    if x > y:\n",
    "        print('Large:', x)\n",
    "    else:\n",
    "        print('Large:', y)"
   ]
  },
  {
   "cell_type": "code",
   "execution_count": 17,
   "id": "312a1d79",
   "metadata": {},
   "outputs": [
    {
     "name": "stdout",
     "output_type": "stream",
     "text": [
      "Enter first  number: 34\n",
      "Enter second number: 67\n",
      "Large: 67\n"
     ]
    }
   ],
   "source": [
    "num1 = int(input('Enter first  number: '))\n",
    "num2 = int(input('Enter second number: '))\n",
    "large(num1, num2)"
   ]
  },
  {
   "cell_type": "markdown",
   "id": "71683857",
   "metadata": {},
   "source": [
    "#### Function with return"
   ]
  },
  {
   "cell_type": "code",
   "execution_count": 20,
   "id": "d93ed1ec",
   "metadata": {},
   "outputs": [],
   "source": [
    "def square(n):   # n -> parameter\n",
    "    value = n * n\n",
    "    return value"
   ]
  },
  {
   "cell_type": "code",
   "execution_count": 21,
   "id": "6074e443",
   "metadata": {},
   "outputs": [],
   "source": [
    "x = square(6)"
   ]
  },
  {
   "cell_type": "code",
   "execution_count": 22,
   "id": "491e51c8",
   "metadata": {},
   "outputs": [
    {
     "data": {
      "text/plain": [
       "36"
      ]
     },
     "execution_count": 22,
     "metadata": {},
     "output_type": "execute_result"
    }
   ],
   "source": [
    "x"
   ]
  },
  {
   "cell_type": "code",
   "execution_count": 23,
   "id": "4fdbd239",
   "metadata": {},
   "outputs": [
    {
     "name": "stdout",
     "output_type": "stream",
     "text": [
      "Square is 49\n"
     ]
    }
   ],
   "source": [
    "print('Square is', square(7))"
   ]
  },
  {
   "cell_type": "code",
   "execution_count": 24,
   "id": "1dbb3705",
   "metadata": {},
   "outputs": [
    {
     "data": {
      "text/plain": [
       "343"
      ]
     },
     "execution_count": 24,
     "metadata": {},
     "output_type": "execute_result"
    }
   ],
   "source": [
    "7 * square(7)"
   ]
  },
  {
   "cell_type": "code",
   "execution_count": 25,
   "id": "e3d7deae",
   "metadata": {},
   "outputs": [
    {
     "name": "stdout",
     "output_type": "stream",
     "text": [
      "Enter the number:12\n",
      "Square is 144\n"
     ]
    }
   ],
   "source": [
    "num = int(input('Enter the number:'))\n",
    "print('Square is', square(num))"
   ]
  },
  {
   "cell_type": "code",
   "execution_count": 26,
   "id": "1d68c875",
   "metadata": {},
   "outputs": [],
   "source": [
    "# Write a function to find factorial of a number\n",
    "\n",
    "def factorial(n):\n",
    "    fact = 1\n",
    "    for x in range(1, n+1):\n",
    "        fact = fact * x\n",
    "        \n",
    "    return fact"
   ]
  },
  {
   "cell_type": "code",
   "execution_count": 27,
   "id": "9afabafb",
   "metadata": {},
   "outputs": [
    {
     "data": {
      "text/plain": [
       "120"
      ]
     },
     "execution_count": 27,
     "metadata": {},
     "output_type": "execute_result"
    }
   ],
   "source": [
    "factorial(5)"
   ]
  },
  {
   "cell_type": "code",
   "execution_count": 28,
   "id": "555c0b4d",
   "metadata": {},
   "outputs": [
    {
     "name": "stdout",
     "output_type": "stream",
     "text": [
      "Enter the number:23\n",
      "Factorial is 25852016738884976640000\n"
     ]
    }
   ],
   "source": [
    "num = int(input('Enter the number:'))\n",
    "print('Factorial is', factorial(num))"
   ]
  },
  {
   "cell_type": "code",
   "execution_count": 29,
   "id": "412230eb",
   "metadata": {},
   "outputs": [],
   "source": [
    "# Read a number and find the sum of digits of this number\n",
    "# number : 12345   \n",
    "# sum of digits: 1 + 2 + 3 + 4 + 5 = 15\n",
    "def sumdig(n):\n",
    "    add = 0\n",
    "    while n > 0:\n",
    "        rem = n % 10\n",
    "        add = add + rem\n",
    "        n = n // 10\n",
    "        \n",
    "    return add"
   ]
  },
  {
   "cell_type": "code",
   "execution_count": 31,
   "id": "bd1b66ff",
   "metadata": {},
   "outputs": [
    {
     "name": "stdout",
     "output_type": "stream",
     "text": [
      "Enter the number:256673\n"
     ]
    },
    {
     "data": {
      "text/plain": [
       "29"
      ]
     },
     "execution_count": 31,
     "metadata": {},
     "output_type": "execute_result"
    }
   ],
   "source": [
    "num = int(input('Enter the number:'))\n",
    "sumdig(num)"
   ]
  },
  {
   "cell_type": "code",
   "execution_count": 32,
   "id": "e0bdf5b1",
   "metadata": {},
   "outputs": [],
   "source": [
    "# Write a function to filter the odd numbers from list\n",
    "\n",
    "x = [56,2,14,37,51,27,86,28,35]"
   ]
  },
  {
   "cell_type": "code",
   "execution_count": 33,
   "id": "47e38167",
   "metadata": {},
   "outputs": [],
   "source": [
    "def odd(num):\n",
    "    e = []\n",
    "    for n in num:\n",
    "        if n % 2 == 1:\n",
    "            e.append(n)\n",
    "    return e"
   ]
  },
  {
   "cell_type": "code",
   "execution_count": 34,
   "id": "3868dba0",
   "metadata": {},
   "outputs": [
    {
     "data": {
      "text/plain": [
       "[37, 51, 27, 35]"
      ]
     },
     "execution_count": 34,
     "metadata": {},
     "output_type": "execute_result"
    }
   ],
   "source": [
    "odd(x)"
   ]
  },
  {
   "cell_type": "markdown",
   "id": "7a3f3e67",
   "metadata": {},
   "source": [
    "#### Function with multi-return"
   ]
  },
  {
   "cell_type": "code",
   "execution_count": 36,
   "id": "fd26e561",
   "metadata": {},
   "outputs": [],
   "source": [
    "def calc(n):\n",
    "    sq = n * n\n",
    "    cu = n ** 3\n",
    "    return sq, cu"
   ]
  },
  {
   "cell_type": "code",
   "execution_count": 37,
   "id": "2534e0ce",
   "metadata": {},
   "outputs": [],
   "source": [
    "x, y = calc(3)"
   ]
  },
  {
   "cell_type": "code",
   "execution_count": 38,
   "id": "d966e455",
   "metadata": {},
   "outputs": [
    {
     "data": {
      "text/plain": [
       "9"
      ]
     },
     "execution_count": 38,
     "metadata": {},
     "output_type": "execute_result"
    }
   ],
   "source": [
    "x"
   ]
  },
  {
   "cell_type": "code",
   "execution_count": 39,
   "id": "946851f8",
   "metadata": {},
   "outputs": [
    {
     "data": {
      "text/plain": [
       "27"
      ]
     },
     "execution_count": 39,
     "metadata": {},
     "output_type": "execute_result"
    }
   ],
   "source": [
    "y"
   ]
  },
  {
   "cell_type": "code",
   "execution_count": 40,
   "id": "ffc1a0c7",
   "metadata": {},
   "outputs": [],
   "source": [
    "def calculate(num1, num2):\n",
    "    add = num1 + num2\n",
    "    sub = num1 - num2\n",
    "    mul = num1 * num2\n",
    "    div = num1 / num2\n",
    "    return add, sub, mul, div"
   ]
  },
  {
   "cell_type": "code",
   "execution_count": 41,
   "id": "31c625c6",
   "metadata": {},
   "outputs": [
    {
     "data": {
      "text/plain": [
       "(68, 44, 672, 4.666666666666667)"
      ]
     },
     "execution_count": 41,
     "metadata": {},
     "output_type": "execute_result"
    }
   ],
   "source": [
    "calculate(56,12)"
   ]
  },
  {
   "cell_type": "code",
   "execution_count": 42,
   "id": "097cf938",
   "metadata": {},
   "outputs": [
    {
     "data": {
      "text/plain": [
       "(112, -22, 3015, 0.6716417910447762)"
      ]
     },
     "execution_count": 42,
     "metadata": {},
     "output_type": "execute_result"
    }
   ],
   "source": [
    "calculate(45, 67)"
   ]
  },
  {
   "cell_type": "markdown",
   "id": "a9c9f58c",
   "metadata": {},
   "source": [
    "#### Default Parameters and Keyword Arguments"
   ]
  },
  {
   "cell_type": "code",
   "execution_count": 52,
   "id": "79e31820",
   "metadata": {},
   "outputs": [],
   "source": [
    "def calc(x=4, y=2, z=3):\n",
    "    add = x + y + z\n",
    "    return(add)"
   ]
  },
  {
   "cell_type": "code",
   "execution_count": 58,
   "id": "6d8d894c",
   "metadata": {},
   "outputs": [
    {
     "name": "stdout",
     "output_type": "stream",
     "text": [
      "Add1: 13\n",
      "Add2: 15\n",
      "Add3: 10\n",
      "Add4: 9\n",
      "Add5: 13\n",
      "Add6: 16\n"
     ]
    }
   ],
   "source": [
    "print('Add1:',calc(8,4,1))\n",
    "print('Add2:',calc(8,4))\n",
    "print('Add3:',calc(5))\n",
    "print('Add4:',calc())\n",
    "print('Add5:',calc(y=6))\n",
    "print('Add6:',calc(y=6,z=8,x=2))"
   ]
  },
  {
   "cell_type": "code",
   "execution_count": 61,
   "id": "f0445eab",
   "metadata": {},
   "outputs": [
    {
     "data": {
      "text/plain": [
       "[2, 5, 5, 7, 8, 9]"
      ]
     },
     "execution_count": 61,
     "metadata": {},
     "output_type": "execute_result"
    }
   ],
   "source": [
    "t = [5,7,5,2,8,9]\n",
    "sorted(t)"
   ]
  },
  {
   "cell_type": "code",
   "execution_count": 62,
   "id": "cd945193",
   "metadata": {},
   "outputs": [
    {
     "data": {
      "text/plain": [
       "[9, 8, 7, 5, 5, 2]"
      ]
     },
     "execution_count": 62,
     "metadata": {},
     "output_type": "execute_result"
    }
   ],
   "source": [
    "sorted(t, reverse=True)"
   ]
  },
  {
   "cell_type": "markdown",
   "id": "64dfe284",
   "metadata": {},
   "source": [
    "#### Variable Length Arguments"
   ]
  },
  {
   "cell_type": "code",
   "execution_count": 64,
   "id": "2a999757",
   "metadata": {},
   "outputs": [],
   "source": [
    "def show(*x):\n",
    "    for n in x:\n",
    "        print(n)"
   ]
  },
  {
   "cell_type": "code",
   "execution_count": 65,
   "id": "650ad32b",
   "metadata": {},
   "outputs": [
    {
     "name": "stdout",
     "output_type": "stream",
     "text": [
      "5\n",
      "22\n",
      "16\n"
     ]
    }
   ],
   "source": [
    "show(5,22,16)"
   ]
  },
  {
   "cell_type": "code",
   "execution_count": 66,
   "id": "7e6736e7",
   "metadata": {},
   "outputs": [
    {
     "name": "stdout",
     "output_type": "stream",
     "text": [
      "hello\n",
      "56.78\n",
      "12\n",
      "kite\n",
      "190\n"
     ]
    }
   ],
   "source": [
    "show('hello',56.78,12,'kite',190)"
   ]
  },
  {
   "cell_type": "markdown",
   "id": "5eea454e",
   "metadata": {},
   "source": [
    "#### lambda / anonymous functions"
   ]
  },
  {
   "cell_type": "code",
   "execution_count": 68,
   "id": "6aaac250",
   "metadata": {},
   "outputs": [],
   "source": [
    "square = lambda x: x * x"
   ]
  },
  {
   "cell_type": "code",
   "execution_count": 69,
   "id": "b6cb45c8",
   "metadata": {},
   "outputs": [
    {
     "data": {
      "text/plain": [
       "25"
      ]
     },
     "execution_count": 69,
     "metadata": {},
     "output_type": "execute_result"
    }
   ],
   "source": [
    "square(5)"
   ]
  },
  {
   "cell_type": "code",
   "execution_count": 70,
   "id": "8acf8404",
   "metadata": {},
   "outputs": [],
   "source": [
    "cube = lambda x: x ** 3"
   ]
  },
  {
   "cell_type": "code",
   "execution_count": 71,
   "id": "96025023",
   "metadata": {},
   "outputs": [
    {
     "data": {
      "text/plain": [
       "125"
      ]
     },
     "execution_count": 71,
     "metadata": {},
     "output_type": "execute_result"
    }
   ],
   "source": [
    "cube(5)"
   ]
  },
  {
   "cell_type": "markdown",
   "id": "86947eed",
   "metadata": {},
   "source": [
    "#### map function"
   ]
  },
  {
   "cell_type": "code",
   "execution_count": 73,
   "id": "de9dab66",
   "metadata": {},
   "outputs": [],
   "source": [
    "data = [45,12,37,56,22,75,13,48]"
   ]
  },
  {
   "cell_type": "code",
   "execution_count": 74,
   "id": "5d334a70",
   "metadata": {},
   "outputs": [
    {
     "data": {
      "text/plain": [
       "[22.5, 6.0, 18.5, 28.0, 11.0, 37.5, 6.5, 24.0]"
      ]
     },
     "execution_count": 74,
     "metadata": {},
     "output_type": "execute_result"
    }
   ],
   "source": [
    "new = map(lambda x: x/2, data)\n",
    "list(new)"
   ]
  },
  {
   "cell_type": "code",
   "execution_count": 75,
   "id": "c0bc78da",
   "metadata": {},
   "outputs": [
    {
     "data": {
      "text/plain": [
       "[2025, 144, 1369, 3136, 484, 5625, 169, 2304]"
      ]
     },
     "execution_count": 75,
     "metadata": {},
     "output_type": "execute_result"
    }
   ],
   "source": [
    "new = map(lambda x: x*x, data)\n",
    "list(new)"
   ]
  },
  {
   "cell_type": "markdown",
   "id": "1a1eee55",
   "metadata": {},
   "source": [
    "#### filter function"
   ]
  },
  {
   "cell_type": "code",
   "execution_count": 77,
   "id": "dd626b9a",
   "metadata": {},
   "outputs": [],
   "source": [
    "data = [45,12,37,56,22,75,13,48]"
   ]
  },
  {
   "cell_type": "code",
   "execution_count": 78,
   "id": "164002cb",
   "metadata": {},
   "outputs": [
    {
     "data": {
      "text/plain": [
       "[45, 56, 75, 48]"
      ]
     },
     "execution_count": 78,
     "metadata": {},
     "output_type": "execute_result"
    }
   ],
   "source": [
    "new = filter(lambda x: x > 40, data)\n",
    "list(new)"
   ]
  },
  {
   "cell_type": "code",
   "execution_count": 79,
   "id": "b4589006",
   "metadata": {},
   "outputs": [
    {
     "data": {
      "text/plain": [
       "[45, 37, 75, 13]"
      ]
     },
     "execution_count": 79,
     "metadata": {},
     "output_type": "execute_result"
    }
   ],
   "source": [
    "new = filter(lambda x: x % 2 == 1, data)\n",
    "list(new)"
   ]
  },
  {
   "cell_type": "code",
   "execution_count": null,
   "id": "f018b494",
   "metadata": {},
   "outputs": [],
   "source": []
  }
 ],
 "metadata": {
  "kernelspec": {
   "display_name": "Python 3",
   "language": "python",
   "name": "python3"
  },
  "language_info": {
   "codemirror_mode": {
    "name": "ipython",
    "version": 3
   },
   "file_extension": ".py",
   "mimetype": "text/x-python",
   "name": "python",
   "nbconvert_exporter": "python",
   "pygments_lexer": "ipython3",
   "version": "3.8.10"
  }
 },
 "nbformat": 4,
 "nbformat_minor": 5
}
