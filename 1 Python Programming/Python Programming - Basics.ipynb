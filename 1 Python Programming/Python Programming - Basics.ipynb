{
 "cells": [
  {
   "cell_type": "code",
   "execution_count": 1,
   "id": "aceae978",
   "metadata": {
    "scrolled": true
   },
   "outputs": [
    {
     "name": "stdout",
     "output_type": "stream",
     "text": [
      "Hello World\n"
     ]
    }
   ],
   "source": [
    "print('Hello World')"
   ]
  },
  {
   "cell_type": "code",
   "execution_count": 2,
   "id": "cc5b5b58",
   "metadata": {},
   "outputs": [
    {
     "name": "stdout",
     "output_type": "stream",
     "text": [
      "Hello Tushar\n"
     ]
    }
   ],
   "source": [
    "print('Hello Tushar')"
   ]
  },
  {
   "cell_type": "code",
   "execution_count": 3,
   "id": "40326d98",
   "metadata": {},
   "outputs": [],
   "source": [
    "x = 45\n",
    "y = 89"
   ]
  },
  {
   "cell_type": "code",
   "execution_count": 4,
   "id": "b590541a",
   "metadata": {},
   "outputs": [
    {
     "name": "stdout",
     "output_type": "stream",
     "text": [
      "45\n"
     ]
    }
   ],
   "source": [
    "print(x)"
   ]
  },
  {
   "cell_type": "code",
   "execution_count": 5,
   "id": "75afcaa7",
   "metadata": {},
   "outputs": [
    {
     "name": "stdout",
     "output_type": "stream",
     "text": [
      "89\n"
     ]
    }
   ],
   "source": [
    "print(y)"
   ]
  },
  {
   "cell_type": "code",
   "execution_count": 6,
   "id": "80895cb8",
   "metadata": {},
   "outputs": [
    {
     "name": "stdout",
     "output_type": "stream",
     "text": [
      "45 89\n"
     ]
    }
   ],
   "source": [
    "print(x,y)"
   ]
  },
  {
   "cell_type": "code",
   "execution_count": 7,
   "id": "e6e8e1b0",
   "metadata": {},
   "outputs": [],
   "source": [
    "num = 78\n",
    "Num = 47"
   ]
  },
  {
   "cell_type": "code",
   "execution_count": 8,
   "id": "ff6f1abf",
   "metadata": {},
   "outputs": [
    {
     "name": "stdout",
     "output_type": "stream",
     "text": [
      "78 47\n"
     ]
    }
   ],
   "source": [
    "print(num, Num)"
   ]
  },
  {
   "cell_type": "code",
   "execution_count": 9,
   "id": "377e67e1",
   "metadata": {},
   "outputs": [
    {
     "ename": "SyntaxError",
     "evalue": "invalid syntax (<ipython-input-9-0f94665d9ae5>, line 1)",
     "output_type": "error",
     "traceback": [
      "\u001b[0;36m  File \u001b[0;32m\"<ipython-input-9-0f94665d9ae5>\"\u001b[0;36m, line \u001b[0;32m1\u001b[0m\n\u001b[0;31m    pass = 78\u001b[0m\n\u001b[0m         ^\u001b[0m\n\u001b[0;31mSyntaxError\u001b[0m\u001b[0;31m:\u001b[0m invalid syntax\n"
     ]
    }
   ],
   "source": [
    "pass = 78"
   ]
  },
  {
   "cell_type": "code",
   "execution_count": 10,
   "id": "b50a000b",
   "metadata": {},
   "outputs": [
    {
     "ename": "SyntaxError",
     "evalue": "invalid syntax (<ipython-input-10-f2b9ac164cbb>, line 1)",
     "output_type": "error",
     "traceback": [
      "\u001b[0;36m  File \u001b[0;32m\"<ipython-input-10-f2b9ac164cbb>\"\u001b[0;36m, line \u001b[0;32m1\u001b[0m\n\u001b[0;31m    class = 53\u001b[0m\n\u001b[0m          ^\u001b[0m\n\u001b[0;31mSyntaxError\u001b[0m\u001b[0;31m:\u001b[0m invalid syntax\n"
     ]
    }
   ],
   "source": [
    "class = 53"
   ]
  },
  {
   "cell_type": "code",
   "execution_count": 11,
   "id": "ce10e938",
   "metadata": {},
   "outputs": [],
   "source": [
    "num = 56"
   ]
  },
  {
   "cell_type": "code",
   "execution_count": 12,
   "id": "90f12999",
   "metadata": {},
   "outputs": [
    {
     "data": {
      "text/plain": [
       "int"
      ]
     },
     "execution_count": 12,
     "metadata": {},
     "output_type": "execute_result"
    }
   ],
   "source": [
    "type(num)"
   ]
  },
  {
   "cell_type": "code",
   "execution_count": 13,
   "id": "4f88a55f",
   "metadata": {},
   "outputs": [],
   "source": [
    "num1 = 67.45"
   ]
  },
  {
   "cell_type": "code",
   "execution_count": 14,
   "id": "85bdb427",
   "metadata": {},
   "outputs": [
    {
     "data": {
      "text/plain": [
       "float"
      ]
     },
     "execution_count": 14,
     "metadata": {},
     "output_type": "execute_result"
    }
   ],
   "source": [
    "type(num1)"
   ]
  },
  {
   "cell_type": "code",
   "execution_count": 15,
   "id": "62611160",
   "metadata": {},
   "outputs": [
    {
     "data": {
      "text/plain": [
       "str"
      ]
     },
     "execution_count": 15,
     "metadata": {},
     "output_type": "execute_result"
    }
   ],
   "source": [
    "name = 'Tushar'\n",
    "type(name)"
   ]
  },
  {
   "cell_type": "code",
   "execution_count": 16,
   "id": "7e303420",
   "metadata": {},
   "outputs": [
    {
     "ename": "NameError",
     "evalue": "name 'Tushar' is not defined",
     "output_type": "error",
     "traceback": [
      "\u001b[0;31m---------------------------------------------------------------------------\u001b[0m",
      "\u001b[0;31mNameError\u001b[0m                                 Traceback (most recent call last)",
      "\u001b[0;32m<ipython-input-16-6261cbabc89f>\u001b[0m in \u001b[0;36m<module>\u001b[0;34m\u001b[0m\n\u001b[0;32m----> 1\u001b[0;31m \u001b[0mname\u001b[0m \u001b[0;34m=\u001b[0m \u001b[0mTushar\u001b[0m\u001b[0;34m\u001b[0m\u001b[0;34m\u001b[0m\u001b[0m\n\u001b[0m",
      "\u001b[0;31mNameError\u001b[0m: name 'Tushar' is not defined"
     ]
    }
   ],
   "source": [
    "name = Tushar"
   ]
  },
  {
   "cell_type": "markdown",
   "id": "4db28d3a",
   "metadata": {},
   "source": [
    "#### Data Types"
   ]
  },
  {
   "cell_type": "code",
   "execution_count": null,
   "id": "7276a75e",
   "metadata": {},
   "outputs": [],
   "source": [
    "num = 5127416481742907214164927426462847627641894716461"
   ]
  },
  {
   "cell_type": "code",
   "execution_count": null,
   "id": "b1086993",
   "metadata": {},
   "outputs": [],
   "source": [
    "print(num)"
   ]
  },
  {
   "cell_type": "code",
   "execution_count": null,
   "id": "8cc5616e",
   "metadata": {},
   "outputs": [],
   "source": [
    "num * 34"
   ]
  },
  {
   "cell_type": "code",
   "execution_count": null,
   "id": "2cd5ee50",
   "metadata": {},
   "outputs": [],
   "source": [
    "x = 546637 ** 3677"
   ]
  },
  {
   "cell_type": "code",
   "execution_count": 17,
   "id": "06564495",
   "metadata": {},
   "outputs": [
    {
     "data": {
      "text/plain": [
       "45"
      ]
     },
     "execution_count": 17,
     "metadata": {},
     "output_type": "execute_result"
    }
   ],
   "source": [
    "x"
   ]
  },
  {
   "cell_type": "code",
   "execution_count": 18,
   "id": "60088a6c",
   "metadata": {},
   "outputs": [],
   "source": [
    "num = 78.566"
   ]
  },
  {
   "cell_type": "code",
   "execution_count": 19,
   "id": "98b2d622",
   "metadata": {},
   "outputs": [
    {
     "data": {
      "text/plain": [
       "78.566"
      ]
     },
     "execution_count": 19,
     "metadata": {},
     "output_type": "execute_result"
    }
   ],
   "source": [
    "num"
   ]
  },
  {
   "cell_type": "code",
   "execution_count": 20,
   "id": "4f187c96",
   "metadata": {},
   "outputs": [],
   "source": [
    "num = 5473.536728882746483527268"
   ]
  },
  {
   "cell_type": "code",
   "execution_count": 21,
   "id": "267f5ed8",
   "metadata": {},
   "outputs": [
    {
     "data": {
      "text/plain": [
       "5473.5367288827465"
      ]
     },
     "execution_count": 21,
     "metadata": {},
     "output_type": "execute_result"
    }
   ],
   "source": [
    "num"
   ]
  },
  {
   "cell_type": "code",
   "execution_count": 22,
   "id": "5b29ad10",
   "metadata": {},
   "outputs": [],
   "source": [
    "n = 677e23"
   ]
  },
  {
   "cell_type": "code",
   "execution_count": 23,
   "id": "11622c3a",
   "metadata": {},
   "outputs": [
    {
     "data": {
      "text/plain": [
       "6.77e+25"
      ]
     },
     "execution_count": 23,
     "metadata": {},
     "output_type": "execute_result"
    }
   ],
   "source": [
    "n"
   ]
  },
  {
   "cell_type": "code",
   "execution_count": 24,
   "id": "72f27f0e",
   "metadata": {},
   "outputs": [
    {
     "data": {
      "text/plain": [
       "1000.0"
      ]
     },
     "execution_count": 24,
     "metadata": {},
     "output_type": "execute_result"
    }
   ],
   "source": [
    "10e2"
   ]
  },
  {
   "cell_type": "markdown",
   "id": "d9dfc797",
   "metadata": {},
   "source": [
    "#### Multiple assignment"
   ]
  },
  {
   "cell_type": "code",
   "execution_count": 25,
   "id": "d4a36e18",
   "metadata": {},
   "outputs": [],
   "source": [
    "num1, num2, num3 = 67, 89, 23"
   ]
  },
  {
   "cell_type": "code",
   "execution_count": 26,
   "id": "dc979110",
   "metadata": {},
   "outputs": [
    {
     "name": "stdout",
     "output_type": "stream",
     "text": [
      "67 23\n"
     ]
    }
   ],
   "source": [
    "print(num1, num3)"
   ]
  },
  {
   "cell_type": "code",
   "execution_count": 27,
   "id": "fbad1ae7",
   "metadata": {},
   "outputs": [],
   "source": [
    "num1, num2, num3 = 67.61, 89, 'Hello'"
   ]
  },
  {
   "cell_type": "code",
   "execution_count": 28,
   "id": "e7ae79d5",
   "metadata": {},
   "outputs": [
    {
     "name": "stdout",
     "output_type": "stream",
     "text": [
      "67.61 Hello\n"
     ]
    }
   ],
   "source": [
    "print(num1, num3)"
   ]
  },
  {
   "cell_type": "code",
   "execution_count": 29,
   "id": "1163a56d",
   "metadata": {},
   "outputs": [],
   "source": [
    "num1, num2, num3 = 67, 89, 67"
   ]
  },
  {
   "cell_type": "code",
   "execution_count": 30,
   "id": "cc661bcb",
   "metadata": {},
   "outputs": [],
   "source": [
    "num1 = num2 = num3 = 78"
   ]
  },
  {
   "cell_type": "code",
   "execution_count": 31,
   "id": "3d6a2f3b",
   "metadata": {},
   "outputs": [
    {
     "name": "stdout",
     "output_type": "stream",
     "text": [
      "78 78\n"
     ]
    }
   ],
   "source": [
    "print(num1, num3)"
   ]
  },
  {
   "cell_type": "code",
   "execution_count": 32,
   "id": "91be08dd",
   "metadata": {},
   "outputs": [
    {
     "name": "stdout",
     "output_type": "stream",
     "text": [
      "100\n"
     ]
    }
   ],
   "source": [
    "num1 = 78\n",
    "num2 = 22\n",
    "result = num1 + num2\n",
    "print(result)"
   ]
  },
  {
   "cell_type": "code",
   "execution_count": 33,
   "id": "856bb4f5",
   "metadata": {},
   "outputs": [
    {
     "name": "stdout",
     "output_type": "stream",
     "text": [
      "100\n"
     ]
    }
   ],
   "source": [
    "num1 = 78; num2 = 22; result = num1 + num2; print(result)"
   ]
  },
  {
   "cell_type": "markdown",
   "id": "cf011107",
   "metadata": {},
   "source": [
    "#### Strings"
   ]
  },
  {
   "cell_type": "code",
   "execution_count": 34,
   "id": "14634e4a",
   "metadata": {},
   "outputs": [],
   "source": [
    "num = 'Tushar'"
   ]
  },
  {
   "cell_type": "code",
   "execution_count": 35,
   "id": "1d283066",
   "metadata": {},
   "outputs": [
    {
     "data": {
      "text/plain": [
       "str"
      ]
     },
     "execution_count": 35,
     "metadata": {},
     "output_type": "execute_result"
    }
   ],
   "source": [
    "type(num)"
   ]
  },
  {
   "cell_type": "code",
   "execution_count": 36,
   "id": "2ba0d00e",
   "metadata": {},
   "outputs": [
    {
     "data": {
      "text/plain": [
       "str"
      ]
     },
     "execution_count": 36,
     "metadata": {},
     "output_type": "execute_result"
    }
   ],
   "source": [
    "num = 'Tushar@123'\n",
    "type(num)"
   ]
  },
  {
   "cell_type": "code",
   "execution_count": 37,
   "id": "e72f95f9",
   "metadata": {},
   "outputs": [
    {
     "data": {
      "text/plain": [
       "str"
      ]
     },
     "execution_count": 37,
     "metadata": {},
     "output_type": "execute_result"
    }
   ],
   "source": [
    "num = \"Tushar@123\"\n",
    "type(num)"
   ]
  },
  {
   "cell_type": "code",
   "execution_count": 38,
   "id": "ce755c9d",
   "metadata": {},
   "outputs": [
    {
     "name": "stdout",
     "output_type": "stream",
     "text": [
      "Learning \"Python\" is fun\n"
     ]
    }
   ],
   "source": [
    "sent = 'Learning \"Python\" is fun'\n",
    "print(sent)"
   ]
  },
  {
   "cell_type": "code",
   "execution_count": 39,
   "id": "319134dc",
   "metadata": {},
   "outputs": [
    {
     "name": "stdout",
     "output_type": "stream",
     "text": [
      "Learning 'Python' is fun\n"
     ]
    }
   ],
   "source": [
    "sent = \"Learning 'Python' is fun\"\n",
    "print(sent)"
   ]
  },
  {
   "cell_type": "code",
   "execution_count": 40,
   "id": "3cc34a7f",
   "metadata": {},
   "outputs": [
    {
     "name": "stdout",
     "output_type": "stream",
     "text": [
      "helloworld\n"
     ]
    }
   ],
   "source": [
    "word1 = 'hello'\n",
    "word2 = 'world'\n",
    "sent = word1 + word2\n",
    "print(sent)"
   ]
  },
  {
   "cell_type": "code",
   "execution_count": 41,
   "id": "2522fc32",
   "metadata": {},
   "outputs": [
    {
     "name": "stdout",
     "output_type": "stream",
     "text": [
      "hello world\n"
     ]
    }
   ],
   "source": [
    "sent = word1 + \" \" +word2\n",
    "print(sent)"
   ]
  },
  {
   "cell_type": "code",
   "execution_count": 42,
   "id": "ba16887b",
   "metadata": {},
   "outputs": [
    {
     "data": {
      "text/plain": [
       "'hellohellohellohellohello'"
      ]
     },
     "execution_count": 42,
     "metadata": {},
     "output_type": "execute_result"
    }
   ],
   "source": [
    "word1 * 5"
   ]
  },
  {
   "cell_type": "code",
   "execution_count": 43,
   "id": "cacb61b2",
   "metadata": {},
   "outputs": [
    {
     "data": {
      "text/plain": [
       "'hello hello hello hello hello '"
      ]
     },
     "execution_count": 43,
     "metadata": {},
     "output_type": "execute_result"
    }
   ],
   "source": [
    "(word1 + \" \") * 5"
   ]
  },
  {
   "cell_type": "code",
   "execution_count": 44,
   "id": "a989d0c2",
   "metadata": {},
   "outputs": [
    {
     "name": "stdout",
     "output_type": "stream",
     "text": [
      "HelloWorld\n"
     ]
    }
   ],
   "source": [
    "print('HelloWorld')"
   ]
  },
  {
   "cell_type": "code",
   "execution_count": 45,
   "id": "ed3d3f77",
   "metadata": {},
   "outputs": [
    {
     "name": "stdout",
     "output_type": "stream",
     "text": [
      "Hello\n",
      "World\n"
     ]
    }
   ],
   "source": [
    "print('Hello\\nWorld')"
   ]
  },
  {
   "cell_type": "code",
   "execution_count": 46,
   "id": "4683f765",
   "metadata": {},
   "outputs": [
    {
     "name": "stdout",
     "output_type": "stream",
     "text": [
      "Hello\tWorld\n"
     ]
    }
   ],
   "source": [
    "print('Hello\\tWorld')"
   ]
  },
  {
   "cell_type": "code",
   "execution_count": 47,
   "id": "04d6f8ca",
   "metadata": {},
   "outputs": [
    {
     "name": "stdout",
     "output_type": "stream",
     "text": [
      "Hello\bWorld\n"
     ]
    }
   ],
   "source": [
    "print('Hello\\bWorld')"
   ]
  },
  {
   "cell_type": "code",
   "execution_count": 48,
   "id": "db3f91e3",
   "metadata": {},
   "outputs": [
    {
     "name": "stdout",
     "output_type": "stream",
     "text": [
      "Hello\\World\n"
     ]
    }
   ],
   "source": [
    "print('Hello\\\\World')"
   ]
  },
  {
   "cell_type": "code",
   "execution_count": 49,
   "id": "6682ff03",
   "metadata": {},
   "outputs": [
    {
     "name": "stdout",
     "output_type": "stream",
     "text": [
      "Hello'World\n"
     ]
    }
   ],
   "source": [
    "print('Hello\\'World')"
   ]
  },
  {
   "cell_type": "code",
   "execution_count": 50,
   "id": "50bad2a7",
   "metadata": {},
   "outputs": [
    {
     "name": "stdout",
     "output_type": "stream",
     "text": [
      "Hello\"World\n"
     ]
    }
   ],
   "source": [
    "print(\"Hello\\\"World\")"
   ]
  },
  {
   "cell_type": "code",
   "execution_count": 51,
   "id": "4bba8605",
   "metadata": {},
   "outputs": [
    {
     "name": "stdout",
     "output_type": "stream",
     "text": [
      "HelloWorld\n"
     ]
    }
   ],
   "source": [
    "# print the name on screen\n",
    "print('HelloWorld')"
   ]
  },
  {
   "cell_type": "code",
   "execution_count": 52,
   "id": "88a81ae9",
   "metadata": {},
   "outputs": [],
   "source": [
    "sent = '''This is first line\n",
    "And second line\n",
    "this is last line'''"
   ]
  },
  {
   "cell_type": "code",
   "execution_count": 53,
   "id": "18480bf4",
   "metadata": {},
   "outputs": [
    {
     "name": "stdout",
     "output_type": "stream",
     "text": [
      "This is first line\n",
      "And second line\n",
      "this is last line\n"
     ]
    }
   ],
   "source": [
    "print(sent)"
   ]
  },
  {
   "cell_type": "code",
   "execution_count": 54,
   "id": "bde3f584",
   "metadata": {},
   "outputs": [],
   "source": [
    "name = 'Tushar'"
   ]
  },
  {
   "cell_type": "code",
   "execution_count": 55,
   "id": "06496136",
   "metadata": {},
   "outputs": [
    {
     "data": {
      "text/plain": [
       "'TUSHAR'"
      ]
     },
     "execution_count": 55,
     "metadata": {},
     "output_type": "execute_result"
    }
   ],
   "source": [
    "name.upper()"
   ]
  },
  {
   "cell_type": "code",
   "execution_count": 56,
   "id": "2701aae6",
   "metadata": {},
   "outputs": [
    {
     "data": {
      "text/plain": [
       "'tushar'"
      ]
     },
     "execution_count": 56,
     "metadata": {},
     "output_type": "execute_result"
    }
   ],
   "source": [
    "name.lower()"
   ]
  },
  {
   "cell_type": "code",
   "execution_count": 57,
   "id": "41b176aa",
   "metadata": {},
   "outputs": [
    {
     "data": {
      "text/plain": [
       "'Tushar'"
      ]
     },
     "execution_count": 57,
     "metadata": {},
     "output_type": "execute_result"
    }
   ],
   "source": [
    "name.title()"
   ]
  },
  {
   "cell_type": "code",
   "execution_count": 58,
   "id": "d98ce043",
   "metadata": {},
   "outputs": [
    {
     "data": {
      "text/plain": [
       "'tUSHAR'"
      ]
     },
     "execution_count": 58,
     "metadata": {},
     "output_type": "execute_result"
    }
   ],
   "source": [
    "name.swapcase()"
   ]
  },
  {
   "cell_type": "code",
   "execution_count": 59,
   "id": "46ab961d",
   "metadata": {},
   "outputs": [],
   "source": [
    "word1 = 'hello'\n",
    "word2 = 'hello123'\n",
    "word3 = '12345'"
   ]
  },
  {
   "cell_type": "code",
   "execution_count": 60,
   "id": "e92c890f",
   "metadata": {},
   "outputs": [
    {
     "data": {
      "text/plain": [
       "(True, False, False)"
      ]
     },
     "execution_count": 60,
     "metadata": {},
     "output_type": "execute_result"
    }
   ],
   "source": [
    "word1.isalpha(), word2.isalpha(), word3.isalpha()"
   ]
  },
  {
   "cell_type": "code",
   "execution_count": 61,
   "id": "46334226",
   "metadata": {},
   "outputs": [
    {
     "data": {
      "text/plain": [
       "(False, False, True)"
      ]
     },
     "execution_count": 61,
     "metadata": {},
     "output_type": "execute_result"
    }
   ],
   "source": [
    "word1.isdigit(), word2.isdigit(), word3.isdigit()"
   ]
  },
  {
   "cell_type": "code",
   "execution_count": 62,
   "id": "0b59dcec",
   "metadata": {},
   "outputs": [
    {
     "data": {
      "text/plain": [
       "False"
      ]
     },
     "execution_count": 62,
     "metadata": {},
     "output_type": "execute_result"
    }
   ],
   "source": [
    "name.isupper()"
   ]
  },
  {
   "cell_type": "code",
   "execution_count": 63,
   "id": "8fdb25e3",
   "metadata": {},
   "outputs": [
    {
     "data": {
      "text/plain": [
       "False"
      ]
     },
     "execution_count": 63,
     "metadata": {},
     "output_type": "execute_result"
    }
   ],
   "source": [
    "name.islower()"
   ]
  },
  {
   "cell_type": "code",
   "execution_count": 64,
   "id": "1e74b9a8",
   "metadata": {},
   "outputs": [
    {
     "data": {
      "text/plain": [
       "True"
      ]
     },
     "execution_count": 64,
     "metadata": {},
     "output_type": "execute_result"
    }
   ],
   "source": [
    "name.istitle()"
   ]
  },
  {
   "cell_type": "code",
   "execution_count": 65,
   "id": "03514992",
   "metadata": {},
   "outputs": [
    {
     "data": {
      "text/plain": [
       "True"
      ]
     },
     "execution_count": 65,
     "metadata": {},
     "output_type": "execute_result"
    }
   ],
   "source": [
    "name.startswith('T')"
   ]
  },
  {
   "cell_type": "code",
   "execution_count": 66,
   "id": "d1b7c214",
   "metadata": {},
   "outputs": [
    {
     "data": {
      "text/plain": [
       "False"
      ]
     },
     "execution_count": 66,
     "metadata": {},
     "output_type": "execute_result"
    }
   ],
   "source": [
    "name.startswith('tu')"
   ]
  },
  {
   "cell_type": "code",
   "execution_count": 67,
   "id": "4f1431ea",
   "metadata": {},
   "outputs": [
    {
     "data": {
      "text/plain": [
       "False"
      ]
     },
     "execution_count": 67,
     "metadata": {},
     "output_type": "execute_result"
    }
   ],
   "source": [
    "name.endswith('T')"
   ]
  },
  {
   "cell_type": "code",
   "execution_count": 68,
   "id": "d5408036",
   "metadata": {},
   "outputs": [
    {
     "data": {
      "text/plain": [
       "True"
      ]
     },
     "execution_count": 68,
     "metadata": {},
     "output_type": "execute_result"
    }
   ],
   "source": [
    "name.endswith('r')"
   ]
  },
  {
   "cell_type": "code",
   "execution_count": 69,
   "id": "ad8ff632",
   "metadata": {},
   "outputs": [],
   "source": [
    "name = 'Tushar '"
   ]
  },
  {
   "cell_type": "code",
   "execution_count": 70,
   "id": "b1a78d68",
   "metadata": {},
   "outputs": [
    {
     "name": "stdout",
     "output_type": "stream",
     "text": [
      "Tushar \n"
     ]
    }
   ],
   "source": [
    "print(name)"
   ]
  },
  {
   "cell_type": "code",
   "execution_count": 71,
   "id": "d56fea46",
   "metadata": {},
   "outputs": [
    {
     "data": {
      "text/plain": [
       "False"
      ]
     },
     "execution_count": 71,
     "metadata": {},
     "output_type": "execute_result"
    }
   ],
   "source": [
    "name.endswith('r')"
   ]
  },
  {
   "cell_type": "code",
   "execution_count": 72,
   "id": "00827bb2",
   "metadata": {},
   "outputs": [
    {
     "data": {
      "text/plain": [
       "'Tushar'"
      ]
     },
     "execution_count": 72,
     "metadata": {},
     "output_type": "execute_result"
    }
   ],
   "source": [
    "name.rstrip()"
   ]
  },
  {
   "cell_type": "code",
   "execution_count": 73,
   "id": "777f62b4",
   "metadata": {},
   "outputs": [],
   "source": [
    "name = ' Tushar  '"
   ]
  },
  {
   "cell_type": "code",
   "execution_count": 74,
   "id": "2a7ff5eb",
   "metadata": {},
   "outputs": [
    {
     "data": {
      "text/plain": [
       "' Tushar'"
      ]
     },
     "execution_count": 74,
     "metadata": {},
     "output_type": "execute_result"
    }
   ],
   "source": [
    "name.rstrip()"
   ]
  },
  {
   "cell_type": "code",
   "execution_count": 75,
   "id": "36108bc0",
   "metadata": {},
   "outputs": [
    {
     "data": {
      "text/plain": [
       "'Tushar  '"
      ]
     },
     "execution_count": 75,
     "metadata": {},
     "output_type": "execute_result"
    }
   ],
   "source": [
    "name.lstrip()"
   ]
  },
  {
   "cell_type": "code",
   "execution_count": 76,
   "id": "c8f67f31",
   "metadata": {},
   "outputs": [
    {
     "data": {
      "text/plain": [
       "'Tushar'"
      ]
     },
     "execution_count": 76,
     "metadata": {},
     "output_type": "execute_result"
    }
   ],
   "source": [
    "name.strip()"
   ]
  },
  {
   "cell_type": "code",
   "execution_count": 77,
   "id": "7f9615bc",
   "metadata": {},
   "outputs": [],
   "source": [
    "name = 'Tushar'"
   ]
  },
  {
   "cell_type": "code",
   "execution_count": 78,
   "id": "875a4cb1",
   "metadata": {},
   "outputs": [
    {
     "data": {
      "text/plain": [
       "'Tooshar'"
      ]
     },
     "execution_count": 78,
     "metadata": {},
     "output_type": "execute_result"
    }
   ],
   "source": [
    "name.replace('u','oo')"
   ]
  },
  {
   "cell_type": "code",
   "execution_count": 79,
   "id": "9fbc8282",
   "metadata": {},
   "outputs": [],
   "source": [
    "sent = 'hello friends how are you?'"
   ]
  },
  {
   "cell_type": "code",
   "execution_count": 80,
   "id": "f3667c28",
   "metadata": {},
   "outputs": [
    {
     "data": {
      "text/plain": [
       "['hello', 'friends', 'how', 'are', 'you?']"
      ]
     },
     "execution_count": 80,
     "metadata": {},
     "output_type": "execute_result"
    }
   ],
   "source": [
    "sent.split()"
   ]
  },
  {
   "cell_type": "markdown",
   "id": "309f52fa",
   "metadata": {},
   "source": [
    "#### help"
   ]
  },
  {
   "cell_type": "code",
   "execution_count": 81,
   "id": "c8f72bbe",
   "metadata": {},
   "outputs": [
    {
     "data": {
      "text/plain": [
       "['__add__',\n",
       " '__class__',\n",
       " '__contains__',\n",
       " '__delattr__',\n",
       " '__dir__',\n",
       " '__doc__',\n",
       " '__eq__',\n",
       " '__format__',\n",
       " '__ge__',\n",
       " '__getattribute__',\n",
       " '__getitem__',\n",
       " '__getnewargs__',\n",
       " '__gt__',\n",
       " '__hash__',\n",
       " '__init__',\n",
       " '__init_subclass__',\n",
       " '__iter__',\n",
       " '__le__',\n",
       " '__len__',\n",
       " '__lt__',\n",
       " '__mod__',\n",
       " '__mul__',\n",
       " '__ne__',\n",
       " '__new__',\n",
       " '__reduce__',\n",
       " '__reduce_ex__',\n",
       " '__repr__',\n",
       " '__rmod__',\n",
       " '__rmul__',\n",
       " '__setattr__',\n",
       " '__sizeof__',\n",
       " '__str__',\n",
       " '__subclasshook__',\n",
       " 'capitalize',\n",
       " 'casefold',\n",
       " 'center',\n",
       " 'count',\n",
       " 'encode',\n",
       " 'endswith',\n",
       " 'expandtabs',\n",
       " 'find',\n",
       " 'format',\n",
       " 'format_map',\n",
       " 'index',\n",
       " 'isalnum',\n",
       " 'isalpha',\n",
       " 'isascii',\n",
       " 'isdecimal',\n",
       " 'isdigit',\n",
       " 'isidentifier',\n",
       " 'islower',\n",
       " 'isnumeric',\n",
       " 'isprintable',\n",
       " 'isspace',\n",
       " 'istitle',\n",
       " 'isupper',\n",
       " 'join',\n",
       " 'ljust',\n",
       " 'lower',\n",
       " 'lstrip',\n",
       " 'maketrans',\n",
       " 'partition',\n",
       " 'replace',\n",
       " 'rfind',\n",
       " 'rindex',\n",
       " 'rjust',\n",
       " 'rpartition',\n",
       " 'rsplit',\n",
       " 'rstrip',\n",
       " 'split',\n",
       " 'splitlines',\n",
       " 'startswith',\n",
       " 'strip',\n",
       " 'swapcase',\n",
       " 'title',\n",
       " 'translate',\n",
       " 'upper',\n",
       " 'zfill']"
      ]
     },
     "execution_count": 81,
     "metadata": {},
     "output_type": "execute_result"
    }
   ],
   "source": [
    "dir(name)"
   ]
  },
  {
   "cell_type": "code",
   "execution_count": 82,
   "id": "63951970",
   "metadata": {},
   "outputs": [
    {
     "name": "stdout",
     "output_type": "stream",
     "text": [
      "Help on built-in function startswith:\n",
      "\n",
      "startswith(...) method of builtins.str instance\n",
      "    S.startswith(prefix[, start[, end]]) -> bool\n",
      "    \n",
      "    Return True if S starts with the specified prefix, False otherwise.\n",
      "    With optional start, test S beginning at that position.\n",
      "    With optional end, stop comparing S at that position.\n",
      "    prefix can also be a tuple of strings to try.\n",
      "\n"
     ]
    }
   ],
   "source": [
    "help(name.startswith)"
   ]
  },
  {
   "cell_type": "code",
   "execution_count": 83,
   "id": "9c677ca5",
   "metadata": {},
   "outputs": [
    {
     "name": "stdout",
     "output_type": "stream",
     "text": [
      "Help on built-in function title:\n",
      "\n",
      "title() method of builtins.str instance\n",
      "    Return a version of the string where each word is titlecased.\n",
      "    \n",
      "    More specifically, words start with uppercased characters and all remaining\n",
      "    cased characters have lower case.\n",
      "\n"
     ]
    }
   ],
   "source": [
    "help(name.title)"
   ]
  },
  {
   "cell_type": "code",
   "execution_count": 84,
   "id": "ecc24c58",
   "metadata": {},
   "outputs": [
    {
     "name": "stdout",
     "output_type": "stream",
     "text": [
      "Help on class str in module builtins:\n",
      "\n",
      "class str(object)\n",
      " |  str(object='') -> str\n",
      " |  str(bytes_or_buffer[, encoding[, errors]]) -> str\n",
      " |  \n",
      " |  Create a new string object from the given object. If encoding or\n",
      " |  errors is specified, then the object must expose a data buffer\n",
      " |  that will be decoded using the given encoding and error handler.\n",
      " |  Otherwise, returns the result of object.__str__() (if defined)\n",
      " |  or repr(object).\n",
      " |  encoding defaults to sys.getdefaultencoding().\n",
      " |  errors defaults to 'strict'.\n",
      " |  \n",
      " |  Methods defined here:\n",
      " |  \n",
      " |  __add__(self, value, /)\n",
      " |      Return self+value.\n",
      " |  \n",
      " |  __contains__(self, key, /)\n",
      " |      Return key in self.\n",
      " |  \n",
      " |  __eq__(self, value, /)\n",
      " |      Return self==value.\n",
      " |  \n",
      " |  __format__(self, format_spec, /)\n",
      " |      Return a formatted version of the string as described by format_spec.\n",
      " |  \n",
      " |  __ge__(self, value, /)\n",
      " |      Return self>=value.\n",
      " |  \n",
      " |  __getattribute__(self, name, /)\n",
      " |      Return getattr(self, name).\n",
      " |  \n",
      " |  __getitem__(self, key, /)\n",
      " |      Return self[key].\n",
      " |  \n",
      " |  __getnewargs__(...)\n",
      " |  \n",
      " |  __gt__(self, value, /)\n",
      " |      Return self>value.\n",
      " |  \n",
      " |  __hash__(self, /)\n",
      " |      Return hash(self).\n",
      " |  \n",
      " |  __iter__(self, /)\n",
      " |      Implement iter(self).\n",
      " |  \n",
      " |  __le__(self, value, /)\n",
      " |      Return self<=value.\n",
      " |  \n",
      " |  __len__(self, /)\n",
      " |      Return len(self).\n",
      " |  \n",
      " |  __lt__(self, value, /)\n",
      " |      Return self<value.\n",
      " |  \n",
      " |  __mod__(self, value, /)\n",
      " |      Return self%value.\n",
      " |  \n",
      " |  __mul__(self, value, /)\n",
      " |      Return self*value.\n",
      " |  \n",
      " |  __ne__(self, value, /)\n",
      " |      Return self!=value.\n",
      " |  \n",
      " |  __repr__(self, /)\n",
      " |      Return repr(self).\n",
      " |  \n",
      " |  __rmod__(self, value, /)\n",
      " |      Return value%self.\n",
      " |  \n",
      " |  __rmul__(self, value, /)\n",
      " |      Return value*self.\n",
      " |  \n",
      " |  __sizeof__(self, /)\n",
      " |      Return the size of the string in memory, in bytes.\n",
      " |  \n",
      " |  __str__(self, /)\n",
      " |      Return str(self).\n",
      " |  \n",
      " |  capitalize(self, /)\n",
      " |      Return a capitalized version of the string.\n",
      " |      \n",
      " |      More specifically, make the first character have upper case and the rest lower\n",
      " |      case.\n",
      " |  \n",
      " |  casefold(self, /)\n",
      " |      Return a version of the string suitable for caseless comparisons.\n",
      " |  \n",
      " |  center(self, width, fillchar=' ', /)\n",
      " |      Return a centered string of length width.\n",
      " |      \n",
      " |      Padding is done using the specified fill character (default is a space).\n",
      " |  \n",
      " |  count(...)\n",
      " |      S.count(sub[, start[, end]]) -> int\n",
      " |      \n",
      " |      Return the number of non-overlapping occurrences of substring sub in\n",
      " |      string S[start:end].  Optional arguments start and end are\n",
      " |      interpreted as in slice notation.\n",
      " |  \n",
      " |  encode(self, /, encoding='utf-8', errors='strict')\n",
      " |      Encode the string using the codec registered for encoding.\n",
      " |      \n",
      " |      encoding\n",
      " |        The encoding in which to encode the string.\n",
      " |      errors\n",
      " |        The error handling scheme to use for encoding errors.\n",
      " |        The default is 'strict' meaning that encoding errors raise a\n",
      " |        UnicodeEncodeError.  Other possible values are 'ignore', 'replace' and\n",
      " |        'xmlcharrefreplace' as well as any other name registered with\n",
      " |        codecs.register_error that can handle UnicodeEncodeErrors.\n",
      " |  \n",
      " |  endswith(...)\n",
      " |      S.endswith(suffix[, start[, end]]) -> bool\n",
      " |      \n",
      " |      Return True if S ends with the specified suffix, False otherwise.\n",
      " |      With optional start, test S beginning at that position.\n",
      " |      With optional end, stop comparing S at that position.\n",
      " |      suffix can also be a tuple of strings to try.\n",
      " |  \n",
      " |  expandtabs(self, /, tabsize=8)\n",
      " |      Return a copy where all tab characters are expanded using spaces.\n",
      " |      \n",
      " |      If tabsize is not given, a tab size of 8 characters is assumed.\n",
      " |  \n",
      " |  find(...)\n",
      " |      S.find(sub[, start[, end]]) -> int\n",
      " |      \n",
      " |      Return the lowest index in S where substring sub is found,\n",
      " |      such that sub is contained within S[start:end].  Optional\n",
      " |      arguments start and end are interpreted as in slice notation.\n",
      " |      \n",
      " |      Return -1 on failure.\n",
      " |  \n",
      " |  format(...)\n",
      " |      S.format(*args, **kwargs) -> str\n",
      " |      \n",
      " |      Return a formatted version of S, using substitutions from args and kwargs.\n",
      " |      The substitutions are identified by braces ('{' and '}').\n",
      " |  \n",
      " |  format_map(...)\n",
      " |      S.format_map(mapping) -> str\n",
      " |      \n",
      " |      Return a formatted version of S, using substitutions from mapping.\n",
      " |      The substitutions are identified by braces ('{' and '}').\n",
      " |  \n",
      " |  index(...)\n",
      " |      S.index(sub[, start[, end]]) -> int\n",
      " |      \n",
      " |      Return the lowest index in S where substring sub is found,\n",
      " |      such that sub is contained within S[start:end].  Optional\n",
      " |      arguments start and end are interpreted as in slice notation.\n",
      " |      \n",
      " |      Raises ValueError when the substring is not found.\n",
      " |  \n",
      " |  isalnum(self, /)\n",
      " |      Return True if the string is an alpha-numeric string, False otherwise.\n",
      " |      \n",
      " |      A string is alpha-numeric if all characters in the string are alpha-numeric and\n",
      " |      there is at least one character in the string.\n",
      " |  \n",
      " |  isalpha(self, /)\n",
      " |      Return True if the string is an alphabetic string, False otherwise.\n",
      " |      \n",
      " |      A string is alphabetic if all characters in the string are alphabetic and there\n",
      " |      is at least one character in the string.\n",
      " |  \n",
      " |  isascii(self, /)\n",
      " |      Return True if all characters in the string are ASCII, False otherwise.\n",
      " |      \n",
      " |      ASCII characters have code points in the range U+0000-U+007F.\n",
      " |      Empty string is ASCII too.\n",
      " |  \n",
      " |  isdecimal(self, /)\n",
      " |      Return True if the string is a decimal string, False otherwise.\n",
      " |      \n",
      " |      A string is a decimal string if all characters in the string are decimal and\n",
      " |      there is at least one character in the string.\n",
      " |  \n",
      " |  isdigit(self, /)\n",
      " |      Return True if the string is a digit string, False otherwise.\n",
      " |      \n",
      " |      A string is a digit string if all characters in the string are digits and there\n",
      " |      is at least one character in the string.\n",
      " |  \n",
      " |  isidentifier(self, /)\n",
      " |      Return True if the string is a valid Python identifier, False otherwise.\n",
      " |      \n",
      " |      Call keyword.iskeyword(s) to test whether string s is a reserved identifier,\n",
      " |      such as \"def\" or \"class\".\n",
      " |  \n",
      " |  islower(self, /)\n",
      " |      Return True if the string is a lowercase string, False otherwise.\n",
      " |      \n",
      " |      A string is lowercase if all cased characters in the string are lowercase and\n",
      " |      there is at least one cased character in the string.\n",
      " |  \n",
      " |  isnumeric(self, /)\n",
      " |      Return True if the string is a numeric string, False otherwise.\n",
      " |      \n",
      " |      A string is numeric if all characters in the string are numeric and there is at\n",
      " |      least one character in the string.\n",
      " |  \n",
      " |  isprintable(self, /)\n",
      " |      Return True if the string is printable, False otherwise.\n",
      " |      \n",
      " |      A string is printable if all of its characters are considered printable in\n",
      " |      repr() or if it is empty.\n",
      " |  \n",
      " |  isspace(self, /)\n",
      " |      Return True if the string is a whitespace string, False otherwise.\n",
      " |      \n",
      " |      A string is whitespace if all characters in the string are whitespace and there\n",
      " |      is at least one character in the string.\n",
      " |  \n",
      " |  istitle(self, /)\n",
      " |      Return True if the string is a title-cased string, False otherwise.\n",
      " |      \n",
      " |      In a title-cased string, upper- and title-case characters may only\n",
      " |      follow uncased characters and lowercase characters only cased ones.\n",
      " |  \n",
      " |  isupper(self, /)\n",
      " |      Return True if the string is an uppercase string, False otherwise.\n",
      " |      \n",
      " |      A string is uppercase if all cased characters in the string are uppercase and\n",
      " |      there is at least one cased character in the string.\n",
      " |  \n",
      " |  join(self, iterable, /)\n",
      " |      Concatenate any number of strings.\n",
      " |      \n",
      " |      The string whose method is called is inserted in between each given string.\n",
      " |      The result is returned as a new string.\n",
      " |      \n",
      " |      Example: '.'.join(['ab', 'pq', 'rs']) -> 'ab.pq.rs'\n",
      " |  \n",
      " |  ljust(self, width, fillchar=' ', /)\n",
      " |      Return a left-justified string of length width.\n",
      " |      \n",
      " |      Padding is done using the specified fill character (default is a space).\n",
      " |  \n",
      " |  lower(self, /)\n",
      " |      Return a copy of the string converted to lowercase.\n",
      " |  \n",
      " |  lstrip(self, chars=None, /)\n",
      " |      Return a copy of the string with leading whitespace removed.\n",
      " |      \n",
      " |      If chars is given and not None, remove characters in chars instead.\n",
      " |  \n",
      " |  partition(self, sep, /)\n",
      " |      Partition the string into three parts using the given separator.\n",
      " |      \n",
      " |      This will search for the separator in the string.  If the separator is found,\n",
      " |      returns a 3-tuple containing the part before the separator, the separator\n",
      " |      itself, and the part after it.\n",
      " |      \n",
      " |      If the separator is not found, returns a 3-tuple containing the original string\n",
      " |      and two empty strings.\n",
      " |  \n",
      " |  replace(self, old, new, count=-1, /)\n",
      " |      Return a copy with all occurrences of substring old replaced by new.\n",
      " |      \n",
      " |        count\n",
      " |          Maximum number of occurrences to replace.\n",
      " |          -1 (the default value) means replace all occurrences.\n",
      " |      \n",
      " |      If the optional argument count is given, only the first count occurrences are\n",
      " |      replaced.\n",
      " |  \n",
      " |  rfind(...)\n",
      " |      S.rfind(sub[, start[, end]]) -> int\n",
      " |      \n",
      " |      Return the highest index in S where substring sub is found,\n",
      " |      such that sub is contained within S[start:end].  Optional\n",
      " |      arguments start and end are interpreted as in slice notation.\n",
      " |      \n",
      " |      Return -1 on failure.\n",
      " |  \n",
      " |  rindex(...)\n",
      " |      S.rindex(sub[, start[, end]]) -> int\n",
      " |      \n",
      " |      Return the highest index in S where substring sub is found,\n",
      " |      such that sub is contained within S[start:end].  Optional\n",
      " |      arguments start and end are interpreted as in slice notation.\n",
      " |      \n",
      " |      Raises ValueError when the substring is not found.\n",
      " |  \n",
      " |  rjust(self, width, fillchar=' ', /)\n",
      " |      Return a right-justified string of length width.\n",
      " |      \n",
      " |      Padding is done using the specified fill character (default is a space).\n",
      " |  \n",
      " |  rpartition(self, sep, /)\n",
      " |      Partition the string into three parts using the given separator.\n",
      " |      \n",
      " |      This will search for the separator in the string, starting at the end. If\n",
      " |      the separator is found, returns a 3-tuple containing the part before the\n",
      " |      separator, the separator itself, and the part after it.\n",
      " |      \n",
      " |      If the separator is not found, returns a 3-tuple containing two empty strings\n",
      " |      and the original string.\n",
      " |  \n",
      " |  rsplit(self, /, sep=None, maxsplit=-1)\n",
      " |      Return a list of the words in the string, using sep as the delimiter string.\n",
      " |      \n",
      " |        sep\n",
      " |          The delimiter according which to split the string.\n",
      " |          None (the default value) means split according to any whitespace,\n",
      " |          and discard empty strings from the result.\n",
      " |        maxsplit\n",
      " |          Maximum number of splits to do.\n",
      " |          -1 (the default value) means no limit.\n",
      " |      \n",
      " |      Splits are done starting at the end of the string and working to the front.\n",
      " |  \n",
      " |  rstrip(self, chars=None, /)\n",
      " |      Return a copy of the string with trailing whitespace removed.\n",
      " |      \n",
      " |      If chars is given and not None, remove characters in chars instead.\n",
      " |  \n",
      " |  split(self, /, sep=None, maxsplit=-1)\n",
      " |      Return a list of the words in the string, using sep as the delimiter string.\n",
      " |      \n",
      " |      sep\n",
      " |        The delimiter according which to split the string.\n",
      " |        None (the default value) means split according to any whitespace,\n",
      " |        and discard empty strings from the result.\n",
      " |      maxsplit\n",
      " |        Maximum number of splits to do.\n",
      " |        -1 (the default value) means no limit.\n",
      " |  \n",
      " |  splitlines(self, /, keepends=False)\n",
      " |      Return a list of the lines in the string, breaking at line boundaries.\n",
      " |      \n",
      " |      Line breaks are not included in the resulting list unless keepends is given and\n",
      " |      true.\n",
      " |  \n",
      " |  startswith(...)\n",
      " |      S.startswith(prefix[, start[, end]]) -> bool\n",
      " |      \n",
      " |      Return True if S starts with the specified prefix, False otherwise.\n",
      " |      With optional start, test S beginning at that position.\n",
      " |      With optional end, stop comparing S at that position.\n",
      " |      prefix can also be a tuple of strings to try.\n",
      " |  \n",
      " |  strip(self, chars=None, /)\n",
      " |      Return a copy of the string with leading and trailing whitespace removed.\n",
      " |      \n",
      " |      If chars is given and not None, remove characters in chars instead.\n",
      " |  \n",
      " |  swapcase(self, /)\n",
      " |      Convert uppercase characters to lowercase and lowercase characters to uppercase.\n",
      " |  \n",
      " |  title(self, /)\n",
      " |      Return a version of the string where each word is titlecased.\n",
      " |      \n",
      " |      More specifically, words start with uppercased characters and all remaining\n",
      " |      cased characters have lower case.\n",
      " |  \n",
      " |  translate(self, table, /)\n",
      " |      Replace each character in the string using the given translation table.\n",
      " |      \n",
      " |        table\n",
      " |          Translation table, which must be a mapping of Unicode ordinals to\n",
      " |          Unicode ordinals, strings, or None.\n",
      " |      \n",
      " |      The table must implement lookup/indexing via __getitem__, for instance a\n",
      " |      dictionary or list.  If this operation raises LookupError, the character is\n",
      " |      left untouched.  Characters mapped to None are deleted.\n",
      " |  \n",
      " |  upper(self, /)\n",
      " |      Return a copy of the string converted to uppercase.\n",
      " |  \n",
      " |  zfill(self, width, /)\n",
      " |      Pad a numeric string with zeros on the left, to fill a field of the given width.\n",
      " |      \n",
      " |      The string is never truncated.\n",
      " |  \n",
      " |  ----------------------------------------------------------------------\n",
      " |  Static methods defined here:\n",
      " |  \n",
      " |  __new__(*args, **kwargs) from builtins.type\n",
      " |      Create and return a new object.  See help(type) for accurate signature.\n",
      " |  \n",
      " |  maketrans(...)\n",
      " |      Return a translation table usable for str.translate().\n",
      " |      \n",
      " |      If there is only one argument, it must be a dictionary mapping Unicode\n",
      " |      ordinals (integers) or characters to Unicode ordinals, strings or None.\n",
      " |      Character keys will be then converted to ordinals.\n",
      " |      If there are two arguments, they must be strings of equal length, and\n",
      " |      in the resulting dictionary, each character in x will be mapped to the\n",
      " |      character at the same position in y. If there is a third argument, it\n",
      " |      must be a string, whose characters will be mapped to None in the result.\n",
      "\n"
     ]
    }
   ],
   "source": [
    "help(str)"
   ]
  },
  {
   "cell_type": "markdown",
   "id": "20b7c502",
   "metadata": {},
   "source": [
    "#### print function"
   ]
  },
  {
   "cell_type": "code",
   "execution_count": 85,
   "id": "774fe709",
   "metadata": {},
   "outputs": [],
   "source": [
    "name = 'Tushar'\n",
    "marks = 68"
   ]
  },
  {
   "cell_type": "code",
   "execution_count": 86,
   "id": "90b5e261",
   "metadata": {},
   "outputs": [
    {
     "name": "stdout",
     "output_type": "stream",
     "text": [
      "My name is Tushar and marks are 68\n"
     ]
    }
   ],
   "source": [
    "print('My name is',name,'and marks are',marks)"
   ]
  },
  {
   "cell_type": "code",
   "execution_count": 87,
   "id": "352195b7",
   "metadata": {},
   "outputs": [
    {
     "name": "stdout",
     "output_type": "stream",
     "text": [
      "('My name is', 'Tushar', 'and marks are', 68)\n"
     ]
    }
   ],
   "source": [
    "x = 'My name is',name,'and marks are',marks\n",
    "print(x)"
   ]
  },
  {
   "cell_type": "code",
   "execution_count": 88,
   "id": "9ae4c5a3",
   "metadata": {},
   "outputs": [
    {
     "name": "stdout",
     "output_type": "stream",
     "text": [
      "My name is Tushar and marks are 68\n"
     ]
    }
   ],
   "source": [
    "print('My name is %s and marks are %i' %(name,marks))"
   ]
  },
  {
   "cell_type": "code",
   "execution_count": 89,
   "id": "f0e17b96",
   "metadata": {},
   "outputs": [
    {
     "name": "stdout",
     "output_type": "stream",
     "text": [
      "My name is Tushar and marks are 68\n"
     ]
    }
   ],
   "source": [
    "x = 'My name is %s and marks are %i' %(name,marks)\n",
    "print(x)"
   ]
  },
  {
   "cell_type": "code",
   "execution_count": 90,
   "id": "a2a890d1",
   "metadata": {},
   "outputs": [
    {
     "name": "stdout",
     "output_type": "stream",
     "text": [
      "My name is Tushar and marks are 68.000000\n"
     ]
    }
   ],
   "source": [
    "print('My name is %s and marks are %f' %(name,marks))"
   ]
  },
  {
   "cell_type": "code",
   "execution_count": 91,
   "id": "f57e96db",
   "metadata": {},
   "outputs": [
    {
     "name": "stdout",
     "output_type": "stream",
     "text": [
      "My name is Tushar and marks are 68.00\n"
     ]
    }
   ],
   "source": [
    "print('My name is %s and marks are %.2f' %(name,marks))"
   ]
  },
  {
   "cell_type": "code",
   "execution_count": 92,
   "id": "89e4ef54",
   "metadata": {},
   "outputs": [
    {
     "name": "stdout",
     "output_type": "stream",
     "text": [
      "Tushar 68\n"
     ]
    }
   ],
   "source": [
    "print(name,marks)"
   ]
  },
  {
   "cell_type": "code",
   "execution_count": 93,
   "id": "a94ceba9",
   "metadata": {},
   "outputs": [],
   "source": [
    "city = 'Pune'"
   ]
  },
  {
   "cell_type": "code",
   "execution_count": 94,
   "id": "06962a2c",
   "metadata": {},
   "outputs": [
    {
     "name": "stdout",
     "output_type": "stream",
     "text": [
      "Tushar\n",
      "68\n",
      "Pune\n"
     ]
    }
   ],
   "source": [
    "print(name,marks,city,sep='\\n')"
   ]
  },
  {
   "cell_type": "code",
   "execution_count": 95,
   "id": "beae9490",
   "metadata": {},
   "outputs": [
    {
     "name": "stdout",
     "output_type": "stream",
     "text": [
      "Tushar68Pune\n"
     ]
    }
   ],
   "source": [
    "print(name,marks,city,sep='')"
   ]
  },
  {
   "cell_type": "code",
   "execution_count": 96,
   "id": "e4ecc9d6",
   "metadata": {},
   "outputs": [
    {
     "name": "stdout",
     "output_type": "stream",
     "text": [
      "Tushar 68 Pune*"
     ]
    }
   ],
   "source": [
    "print(name,marks,city,end='*')"
   ]
  },
  {
   "cell_type": "markdown",
   "id": "e3500a45",
   "metadata": {},
   "source": [
    "#### Operators"
   ]
  },
  {
   "cell_type": "markdown",
   "id": "37ef99e4",
   "metadata": {},
   "source": [
    "###### Arithmetic Operators"
   ]
  },
  {
   "cell_type": "code",
   "execution_count": 97,
   "id": "80d99317",
   "metadata": {},
   "outputs": [],
   "source": [
    "num1 = 67\n",
    "num2 = 33"
   ]
  },
  {
   "cell_type": "code",
   "execution_count": 98,
   "id": "c4884891",
   "metadata": {},
   "outputs": [
    {
     "name": "stdout",
     "output_type": "stream",
     "text": [
      "100\n"
     ]
    }
   ],
   "source": [
    "result = num1 + num2\n",
    "print(result)"
   ]
  },
  {
   "cell_type": "code",
   "execution_count": 99,
   "id": "a3692bff",
   "metadata": {},
   "outputs": [
    {
     "data": {
      "text/plain": [
       "34"
      ]
     },
     "execution_count": 99,
     "metadata": {},
     "output_type": "execute_result"
    }
   ],
   "source": [
    "num1 - num2"
   ]
  },
  {
   "cell_type": "code",
   "execution_count": 100,
   "id": "7c434166",
   "metadata": {},
   "outputs": [
    {
     "data": {
      "text/plain": [
       "2211"
      ]
     },
     "execution_count": 100,
     "metadata": {},
     "output_type": "execute_result"
    }
   ],
   "source": [
    "num1 * num2"
   ]
  },
  {
   "cell_type": "code",
   "execution_count": 101,
   "id": "52e9464e",
   "metadata": {},
   "outputs": [
    {
     "data": {
      "text/plain": [
       "2.0303030303030303"
      ]
     },
     "execution_count": 101,
     "metadata": {},
     "output_type": "execute_result"
    }
   ],
   "source": [
    "num1 / num2"
   ]
  },
  {
   "cell_type": "code",
   "execution_count": 102,
   "id": "5943b897",
   "metadata": {},
   "outputs": [
    {
     "data": {
      "text/plain": [
       "2"
      ]
     },
     "execution_count": 102,
     "metadata": {},
     "output_type": "execute_result"
    }
   ],
   "source": [
    "# floor division\n",
    "num1 // num2"
   ]
  },
  {
   "cell_type": "code",
   "execution_count": 103,
   "id": "d0ccf0d6",
   "metadata": {},
   "outputs": [
    {
     "data": {
      "text/plain": [
       "1"
      ]
     },
     "execution_count": 103,
     "metadata": {},
     "output_type": "execute_result"
    }
   ],
   "source": [
    "# modulus / remainder\n",
    "num1 % num2"
   ]
  },
  {
   "cell_type": "code",
   "execution_count": 104,
   "id": "08c9dba6",
   "metadata": {},
   "outputs": [
    {
     "data": {
      "text/plain": [
       "1821664894730078753748347739907973449122612636443046968910787"
      ]
     },
     "execution_count": 104,
     "metadata": {},
     "output_type": "execute_result"
    }
   ],
   "source": [
    "num1 ** num2"
   ]
  },
  {
   "cell_type": "code",
   "execution_count": 105,
   "id": "8467d3eb",
   "metadata": {},
   "outputs": [
    {
     "data": {
      "text/plain": [
       "16"
      ]
     },
     "execution_count": 105,
     "metadata": {},
     "output_type": "execute_result"
    }
   ],
   "source": [
    "4 ** 2"
   ]
  },
  {
   "cell_type": "markdown",
   "id": "a3eee343",
   "metadata": {},
   "source": [
    "###### Relational Operators"
   ]
  },
  {
   "cell_type": "code",
   "execution_count": 106,
   "id": "69d57747",
   "metadata": {},
   "outputs": [],
   "source": [
    "num1 = 56\n",
    "num2 = 34\n",
    "num3 = 34"
   ]
  },
  {
   "cell_type": "code",
   "execution_count": 107,
   "id": "225b9b45",
   "metadata": {},
   "outputs": [
    {
     "data": {
      "text/plain": [
       "True"
      ]
     },
     "execution_count": 107,
     "metadata": {},
     "output_type": "execute_result"
    }
   ],
   "source": [
    "num1 > num2"
   ]
  },
  {
   "cell_type": "code",
   "execution_count": 108,
   "id": "c4d706cc",
   "metadata": {},
   "outputs": [
    {
     "data": {
      "text/plain": [
       "True"
      ]
     },
     "execution_count": 108,
     "metadata": {},
     "output_type": "execute_result"
    }
   ],
   "source": [
    "num1 >= num2"
   ]
  },
  {
   "cell_type": "code",
   "execution_count": 109,
   "id": "0a714529",
   "metadata": {},
   "outputs": [
    {
     "data": {
      "text/plain": [
       "False"
      ]
     },
     "execution_count": 109,
     "metadata": {},
     "output_type": "execute_result"
    }
   ],
   "source": [
    "num1 < num2"
   ]
  },
  {
   "cell_type": "code",
   "execution_count": 110,
   "id": "f664a1e4",
   "metadata": {},
   "outputs": [
    {
     "data": {
      "text/plain": [
       "False"
      ]
     },
     "execution_count": 110,
     "metadata": {},
     "output_type": "execute_result"
    }
   ],
   "source": [
    "num2 > num3"
   ]
  },
  {
   "cell_type": "code",
   "execution_count": 111,
   "id": "a192ea33",
   "metadata": {},
   "outputs": [
    {
     "data": {
      "text/plain": [
       "True"
      ]
     },
     "execution_count": 111,
     "metadata": {},
     "output_type": "execute_result"
    }
   ],
   "source": [
    "num3 == num2"
   ]
  },
  {
   "cell_type": "code",
   "execution_count": 112,
   "id": "aeb9b2ca",
   "metadata": {},
   "outputs": [
    {
     "data": {
      "text/plain": [
       "True"
      ]
     },
     "execution_count": 112,
     "metadata": {},
     "output_type": "execute_result"
    }
   ],
   "source": [
    "num1 != num2"
   ]
  },
  {
   "cell_type": "markdown",
   "id": "16eea622",
   "metadata": {},
   "source": [
    "###### Assignment Operators"
   ]
  },
  {
   "cell_type": "code",
   "execution_count": 113,
   "id": "6c91514f",
   "metadata": {},
   "outputs": [],
   "source": [
    "num1 = 56\n",
    "num2 = 34\n",
    "num3 = 34"
   ]
  },
  {
   "cell_type": "code",
   "execution_count": 114,
   "id": "c5d04e3e",
   "metadata": {},
   "outputs": [
    {
     "data": {
      "text/plain": [
       "58"
      ]
     },
     "execution_count": 114,
     "metadata": {},
     "output_type": "execute_result"
    }
   ],
   "source": [
    "num1 += 2   # num1 = num1 + 2\n",
    "num1"
   ]
  },
  {
   "cell_type": "code",
   "execution_count": 115,
   "id": "3027bef5",
   "metadata": {},
   "outputs": [
    {
     "data": {
      "text/plain": [
       "24"
      ]
     },
     "execution_count": 115,
     "metadata": {},
     "output_type": "execute_result"
    }
   ],
   "source": [
    "num2 -= 10\n",
    "num2"
   ]
  },
  {
   "cell_type": "code",
   "execution_count": 116,
   "id": "b49bfa77",
   "metadata": {},
   "outputs": [
    {
     "data": {
      "text/plain": [
       "68"
      ]
     },
     "execution_count": 116,
     "metadata": {},
     "output_type": "execute_result"
    }
   ],
   "source": [
    "num3 *= 2\n",
    "num3"
   ]
  },
  {
   "cell_type": "markdown",
   "id": "ded6f2bc",
   "metadata": {},
   "source": [
    "###### Logical operators"
   ]
  },
  {
   "cell_type": "code",
   "execution_count": 117,
   "id": "fc47058a",
   "metadata": {},
   "outputs": [],
   "source": [
    "num1 = 56\n",
    "num2 = 34\n",
    "num3 = 34"
   ]
  },
  {
   "cell_type": "code",
   "execution_count": 118,
   "id": "77c6c4dd",
   "metadata": {},
   "outputs": [
    {
     "data": {
      "text/plain": [
       "True"
      ]
     },
     "execution_count": 118,
     "metadata": {},
     "output_type": "execute_result"
    }
   ],
   "source": [
    "num1 > 50 and num2 == 34"
   ]
  },
  {
   "cell_type": "code",
   "execution_count": 119,
   "id": "f989ecca",
   "metadata": {},
   "outputs": [
    {
     "data": {
      "text/plain": [
       "False"
      ]
     },
     "execution_count": 119,
     "metadata": {},
     "output_type": "execute_result"
    }
   ],
   "source": [
    "num1 > 50 and num2 > 34"
   ]
  },
  {
   "cell_type": "code",
   "execution_count": 120,
   "id": "8aaa75c1",
   "metadata": {},
   "outputs": [
    {
     "data": {
      "text/plain": [
       "True"
      ]
     },
     "execution_count": 120,
     "metadata": {},
     "output_type": "execute_result"
    }
   ],
   "source": [
    "num1 > 50 or num2 > 34"
   ]
  },
  {
   "cell_type": "code",
   "execution_count": 121,
   "id": "b047cd6c",
   "metadata": {},
   "outputs": [
    {
     "data": {
      "text/plain": [
       "False"
      ]
     },
     "execution_count": 121,
     "metadata": {},
     "output_type": "execute_result"
    }
   ],
   "source": [
    "num1 == 50 or num2 > 34"
   ]
  },
  {
   "cell_type": "code",
   "execution_count": 122,
   "id": "444e6038",
   "metadata": {},
   "outputs": [
    {
     "data": {
      "text/plain": [
       "True"
      ]
     },
     "execution_count": 122,
     "metadata": {},
     "output_type": "execute_result"
    }
   ],
   "source": [
    "num1 > 50"
   ]
  },
  {
   "cell_type": "code",
   "execution_count": 123,
   "id": "7cd9839e",
   "metadata": {},
   "outputs": [
    {
     "data": {
      "text/plain": [
       "False"
      ]
     },
     "execution_count": 123,
     "metadata": {},
     "output_type": "execute_result"
    }
   ],
   "source": [
    "not num1 > 50"
   ]
  },
  {
   "cell_type": "markdown",
   "id": "de0f39e9",
   "metadata": {},
   "source": [
    "###### Membership selection"
   ]
  },
  {
   "cell_type": "code",
   "execution_count": 124,
   "id": "53829629",
   "metadata": {},
   "outputs": [],
   "source": [
    "name = 'Tushar'"
   ]
  },
  {
   "cell_type": "code",
   "execution_count": 125,
   "id": "87940742",
   "metadata": {},
   "outputs": [
    {
     "data": {
      "text/plain": [
       "True"
      ]
     },
     "execution_count": 125,
     "metadata": {},
     "output_type": "execute_result"
    }
   ],
   "source": [
    "'u' in name"
   ]
  },
  {
   "cell_type": "code",
   "execution_count": 126,
   "id": "9e3e001d",
   "metadata": {},
   "outputs": [
    {
     "data": {
      "text/plain": [
       "False"
      ]
     },
     "execution_count": 126,
     "metadata": {},
     "output_type": "execute_result"
    }
   ],
   "source": [
    "'t' in name"
   ]
  },
  {
   "cell_type": "code",
   "execution_count": 127,
   "id": "f5e2840c",
   "metadata": {},
   "outputs": [
    {
     "data": {
      "text/plain": [
       "True"
      ]
     },
     "execution_count": 127,
     "metadata": {},
     "output_type": "execute_result"
    }
   ],
   "source": [
    "'t' not in name"
   ]
  },
  {
   "cell_type": "code",
   "execution_count": 128,
   "id": "cf450a91",
   "metadata": {},
   "outputs": [
    {
     "data": {
      "text/plain": [
       "False"
      ]
     },
     "execution_count": 128,
     "metadata": {},
     "output_type": "execute_result"
    }
   ],
   "source": [
    "x = [5,4,3,1,6,5]\n",
    "7 in x"
   ]
  },
  {
   "cell_type": "markdown",
   "id": "5c830335",
   "metadata": {},
   "source": [
    "#### Special Data Types"
   ]
  },
  {
   "cell_type": "code",
   "execution_count": 129,
   "id": "5ff48933",
   "metadata": {},
   "outputs": [],
   "source": [
    "x = True"
   ]
  },
  {
   "cell_type": "code",
   "execution_count": 130,
   "id": "1d2db3a4",
   "metadata": {},
   "outputs": [
    {
     "data": {
      "text/plain": [
       "bool"
      ]
     },
     "execution_count": 130,
     "metadata": {},
     "output_type": "execute_result"
    }
   ],
   "source": [
    "type(x)"
   ]
  },
  {
   "cell_type": "code",
   "execution_count": 131,
   "id": "45b3b74c",
   "metadata": {},
   "outputs": [
    {
     "data": {
      "text/plain": [
       "False"
      ]
     },
     "execution_count": 131,
     "metadata": {},
     "output_type": "execute_result"
    }
   ],
   "source": [
    "x = 67 > 90\n",
    "x"
   ]
  },
  {
   "cell_type": "code",
   "execution_count": 132,
   "id": "2ec166e9",
   "metadata": {},
   "outputs": [],
   "source": [
    "num = None"
   ]
  },
  {
   "cell_type": "code",
   "execution_count": 133,
   "id": "1d6aef29",
   "metadata": {},
   "outputs": [],
   "source": [
    "num"
   ]
  },
  {
   "cell_type": "code",
   "execution_count": null,
   "id": "47733dbe",
   "metadata": {},
   "outputs": [],
   "source": [
    "type(num)"
   ]
  },
  {
   "cell_type": "markdown",
   "id": "1c429fe5",
   "metadata": {},
   "source": [
    "#### Type Casting"
   ]
  },
  {
   "cell_type": "code",
   "execution_count": 134,
   "id": "bf6d2469",
   "metadata": {},
   "outputs": [],
   "source": [
    "num1 = 89\n",
    "num2 = 11.56"
   ]
  },
  {
   "cell_type": "code",
   "execution_count": 135,
   "id": "f57ec56b",
   "metadata": {},
   "outputs": [
    {
     "name": "stdout",
     "output_type": "stream",
     "text": [
      "100.56\n"
     ]
    }
   ],
   "source": [
    "result = num1 + num2\n",
    "print(result)"
   ]
  },
  {
   "cell_type": "code",
   "execution_count": 136,
   "id": "b5de048c",
   "metadata": {},
   "outputs": [
    {
     "name": "stdout",
     "output_type": "stream",
     "text": [
      "100\n"
     ]
    }
   ],
   "source": [
    "result = num1 + int(num2)\n",
    "print(result)"
   ]
  },
  {
   "cell_type": "code",
   "execution_count": 138,
   "id": "78d404c8",
   "metadata": {},
   "outputs": [
    {
     "data": {
      "text/plain": [
       "369"
      ]
     },
     "execution_count": 138,
     "metadata": {},
     "output_type": "execute_result"
    }
   ],
   "source": [
    "s = '123'\n",
    "int(s) * 3"
   ]
  },
  {
   "cell_type": "code",
   "execution_count": 139,
   "id": "5dff978e",
   "metadata": {},
   "outputs": [],
   "source": [
    "name = 'Tushar'\n",
    "marks = 67.89"
   ]
  },
  {
   "cell_type": "code",
   "execution_count": 141,
   "id": "bd5ff93f",
   "metadata": {},
   "outputs": [],
   "source": [
    "password = name + str(marks)"
   ]
  },
  {
   "cell_type": "code",
   "execution_count": 142,
   "id": "f144c519",
   "metadata": {},
   "outputs": [
    {
     "data": {
      "text/plain": [
       "'Tushar67.89'"
      ]
     },
     "execution_count": 142,
     "metadata": {},
     "output_type": "execute_result"
    }
   ],
   "source": [
    "password"
   ]
  },
  {
   "cell_type": "markdown",
   "id": "dd177ccd",
   "metadata": {},
   "source": [
    "#### User input"
   ]
  },
  {
   "cell_type": "code",
   "execution_count": 146,
   "id": "f8673c49",
   "metadata": {},
   "outputs": [
    {
     "name": "stdout",
     "output_type": "stream",
     "text": [
      "Enter your name:Tushar\n",
      "Hello Tushar\n"
     ]
    }
   ],
   "source": [
    "name = input('Enter your name:')\n",
    "print('Hello', name)"
   ]
  },
  {
   "cell_type": "code",
   "execution_count": 147,
   "id": "c1121975",
   "metadata": {},
   "outputs": [
    {
     "name": "stdout",
     "output_type": "stream",
     "text": [
      "Enter your marks:56\n",
      "Your marks are: 56\n"
     ]
    }
   ],
   "source": [
    "marks = int(input('Enter your marks:'))\n",
    "print('Your marks are:', marks)"
   ]
  },
  {
   "cell_type": "code",
   "execution_count": 148,
   "id": "52e7d03b",
   "metadata": {},
   "outputs": [
    {
     "name": "stdout",
     "output_type": "stream",
     "text": [
      "Enter first number:56\n",
      "Enter second number:44\n",
      "Addition is 100\n"
     ]
    }
   ],
   "source": [
    "num1 = int(input('Enter first number:'))\n",
    "num2 = int(input('Enter second number:'))\n",
    "add = num1 + num2\n",
    "print('Addition is', add)"
   ]
  },
  {
   "cell_type": "code",
   "execution_count": null,
   "id": "e45f9e14",
   "metadata": {},
   "outputs": [],
   "source": []
  }
 ],
 "metadata": {
  "kernelspec": {
   "display_name": "Python 3",
   "language": "python",
   "name": "python3"
  },
  "language_info": {
   "codemirror_mode": {
    "name": "ipython",
    "version": 3
   },
   "file_extension": ".py",
   "mimetype": "text/x-python",
   "name": "python",
   "nbconvert_exporter": "python",
   "pygments_lexer": "ipython3",
   "version": "3.8.10"
  }
 },
 "nbformat": 4,
 "nbformat_minor": 5
}
