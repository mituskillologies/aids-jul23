{
 "cells": [
  {
   "cell_type": "markdown",
   "id": "540f0c34",
   "metadata": {},
   "source": [
    "#### simple if statement"
   ]
  },
  {
   "cell_type": "code",
   "execution_count": 5,
   "id": "601041c4",
   "metadata": {},
   "outputs": [
    {
     "name": "stdout",
     "output_type": "stream",
     "text": [
      "Correct\n",
      "END\n"
     ]
    }
   ],
   "source": [
    "num = 67\n",
    "if num > 50:\n",
    "    print('Correct')\n",
    "\n",
    "print('END')"
   ]
  },
  {
   "cell_type": "markdown",
   "id": "94e5e17a",
   "metadata": {},
   "source": [
    "#### If-else statement"
   ]
  },
  {
   "cell_type": "code",
   "execution_count": 7,
   "id": "ba49ad90",
   "metadata": {},
   "outputs": [
    {
     "name": "stdout",
     "output_type": "stream",
     "text": [
      "Enter the number:43\n",
      "Incorrect\n",
      "END\n"
     ]
    }
   ],
   "source": [
    "num = int(input('Enter the number:'))\n",
    "if num > 50:\n",
    "    print('Correct')\n",
    "else:\n",
    "    print('Incorrect')\n",
    "\n",
    "print('END')"
   ]
  },
  {
   "cell_type": "code",
   "execution_count": 9,
   "id": "0664d2fc",
   "metadata": {},
   "outputs": [
    {
     "name": "stdout",
     "output_type": "stream",
     "text": [
      "Enter the number:0\n",
      "Negative\n"
     ]
    }
   ],
   "source": [
    "# Write a program to check the number is positive or negative?\n",
    "num = int(input('Enter the number:'))\n",
    "if num > 0:\n",
    "    print('Positive')\n",
    "else:\n",
    "    print('Negative')"
   ]
  },
  {
   "cell_type": "code",
   "execution_count": 12,
   "id": "857637ca",
   "metadata": {},
   "outputs": [
    {
     "name": "stdout",
     "output_type": "stream",
     "text": [
      "Enter the number:-56\n",
      "Negative\n"
     ]
    }
   ],
   "source": [
    "num = int(input('Enter the number:'))\n",
    "if num > 0:            # compulsory, condition, non-repeatable\n",
    "    print('Positive')\n",
    "elif num == 0:         # optional, condition, repeatable\n",
    "    print('ZERO!')\n",
    "else:                  # optional, no-condition, non-repeatable\n",
    "    print('Negative')"
   ]
  },
  {
   "cell_type": "code",
   "execution_count": 13,
   "id": "f2e76144",
   "metadata": {},
   "outputs": [
    {
     "data": {
      "text/plain": [
       "0"
      ]
     },
     "execution_count": 13,
     "metadata": {},
     "output_type": "execute_result"
    }
   ],
   "source": [
    "# Write a program to check the number is odd or even?\n",
    "24 % 2"
   ]
  },
  {
   "cell_type": "code",
   "execution_count": 14,
   "id": "e6e06a86",
   "metadata": {},
   "outputs": [
    {
     "data": {
      "text/plain": [
       "12"
      ]
     },
     "execution_count": 14,
     "metadata": {},
     "output_type": "execute_result"
    }
   ],
   "source": [
    "24 // 2"
   ]
  },
  {
   "cell_type": "code",
   "execution_count": 16,
   "id": "4022fc72",
   "metadata": {},
   "outputs": [
    {
     "name": "stdout",
     "output_type": "stream",
     "text": [
      "Enter the number:29\n",
      "Odd\n"
     ]
    }
   ],
   "source": [
    "num = int(input('Enter the number:'))\n",
    "if num % 2 == 0:\n",
    "    print('Even')\n",
    "else:\n",
    "    print('Odd')"
   ]
  },
  {
   "cell_type": "code",
   "execution_count": 18,
   "id": "a5ea3d7d",
   "metadata": {},
   "outputs": [
    {
     "name": "stdout",
     "output_type": "stream",
     "text": [
      "Enter the number:78\n",
      "Even\n",
      "OK\n",
      "END\n"
     ]
    }
   ],
   "source": [
    "num = int(input('Enter the number:'))\n",
    "if num % 2 == 0:\n",
    "    print('Even')\n",
    "    print('OK')\n",
    "else:\n",
    "    print('Odd')\n",
    "    print('Good Bye!')\n",
    "    \n",
    "print('END')"
   ]
  },
  {
   "cell_type": "code",
   "execution_count": 19,
   "id": "28c938df",
   "metadata": {},
   "outputs": [
    {
     "name": "stdout",
     "output_type": "stream",
     "text": [
      "Enter first number:56\n",
      "Enter second number:78\n",
      "78 is larger\n"
     ]
    }
   ],
   "source": [
    "# Enter two numbers and find large number\n",
    "num1 = int(input('Enter first number:'))\n",
    "num2 = int(input('Enter second number:'))\n",
    "if num1 > num2:\n",
    "    print(num1,'is larger')\n",
    "else:\n",
    "    print(num2,'is larger')"
   ]
  },
  {
   "cell_type": "markdown",
   "id": "3f55b513",
   "metadata": {},
   "source": [
    "#### Nesting of if-else"
   ]
  },
  {
   "cell_type": "code",
   "execution_count": 23,
   "id": "9f521ab8",
   "metadata": {},
   "outputs": [
    {
     "name": "stdout",
     "output_type": "stream",
     "text": [
      "Enter number:124\n",
      "NO\n"
     ]
    }
   ],
   "source": [
    "num = int(input('Enter number:'))\n",
    "if num > 50:\n",
    "    if num < 100:\n",
    "        print('YES')\n",
    "    else:\n",
    "        print('NO')\n",
    "else:\n",
    "    print('NO')"
   ]
  },
  {
   "cell_type": "code",
   "execution_count": 25,
   "id": "97ff3df6",
   "metadata": {},
   "outputs": [
    {
     "name": "stdout",
     "output_type": "stream",
     "text": [
      "Enter first number:56\n",
      "Enter second number:77\n",
      "Enter third number:87\n",
      "Largest: 87\n"
     ]
    }
   ],
   "source": [
    "# Enter three numbers and find largest number\n",
    "num1 = int(input('Enter first number:'))\n",
    "num2 = int(input('Enter second number:'))\n",
    "num3 = int(input('Enter third number:'))\n",
    "\n",
    "if num1 > num2:\n",
    "    if num1 > num3:\n",
    "        print('Largest:', num1)\n",
    "    else:\n",
    "        print('Largest:', num3)\n",
    "else:\n",
    "    if num2 > num3:\n",
    "        print('Largest:', num2)\n",
    "    else:\n",
    "        print('Largest:', num3)"
   ]
  },
  {
   "cell_type": "code",
   "execution_count": 26,
   "id": "71b952c0",
   "metadata": {},
   "outputs": [],
   "source": [
    "# Read an year from user and find the year is leap or not?\n",
    "# 2004, 2008, 2012, 2016, 2020, 2024"
   ]
  },
  {
   "cell_type": "code",
   "execution_count": 32,
   "id": "d26d9ef6",
   "metadata": {},
   "outputs": [
    {
     "data": {
      "text/plain": [
       "0"
      ]
     },
     "execution_count": 32,
     "metadata": {},
     "output_type": "execute_result"
    }
   ],
   "source": [
    "2008 % 4"
   ]
  },
  {
   "cell_type": "code",
   "execution_count": 34,
   "id": "6fa58d04",
   "metadata": {},
   "outputs": [
    {
     "name": "stdout",
     "output_type": "stream",
     "text": [
      "Enter the year:1900\n",
      "Leap year!\n"
     ]
    }
   ],
   "source": [
    "year = int(input('Enter the year:'))\n",
    "if year % 4 == 0:\n",
    "    print('Leap year!')\n",
    "else:\n",
    "    print('NOT Leap year')"
   ]
  },
  {
   "cell_type": "code",
   "execution_count": 36,
   "id": "d611a12c",
   "metadata": {},
   "outputs": [
    {
     "name": "stdout",
     "output_type": "stream",
     "text": [
      "Enter the marks: 36\n",
      "Failed!\n"
     ]
    }
   ],
   "source": [
    "marks = float(input('Enter the marks: '))\n",
    "if marks >= 75:\n",
    "    print('Distinction!')\n",
    "elif marks >= 60:\n",
    "    print('First Class')\n",
    "elif marks >= 50:\n",
    "    print('Second Class')\n",
    "elif marks >= 40:\n",
    "    print('Pass Class')\n",
    "else:\n",
    "    print('Failed!')"
   ]
  },
  {
   "cell_type": "code",
   "execution_count": 37,
   "id": "62ccd69a",
   "metadata": {},
   "outputs": [
    {
     "name": "stdout",
     "output_type": "stream",
     "text": [
      "Enter the marks: 67\n",
      "First class\n"
     ]
    }
   ],
   "source": [
    "marks = float(input('Enter the marks: '))\n",
    "if marks < 40:\n",
    "    print('Failed!')\n",
    "elif marks < 50:\n",
    "    print('Pass Class')\n",
    "elif marks < 60:\n",
    "    print('Second Class')\n",
    "elif marks < 75:\n",
    "    print('First class')\n",
    "else:\n",
    "    print('Distinction!')"
   ]
  },
  {
   "cell_type": "markdown",
   "id": "e1a4e5f1",
   "metadata": {},
   "source": [
    "#### Menu based program"
   ]
  },
  {
   "cell_type": "code",
   "execution_count": 41,
   "id": "bb4e901e",
   "metadata": {},
   "outputs": [
    {
     "name": "stdout",
     "output_type": "stream",
     "text": [
      "Enter the number:67\n",
      "1.Square\n",
      "2.Cube\n",
      "3.+/-\n",
      "4.odd/even\n",
      "Enter the choice:4\n",
      "Odd\n"
     ]
    }
   ],
   "source": [
    "num = int(input('Enter the number:'))\n",
    "print('1.Square\\n2.Cube\\n3.+/-\\n4.odd/even')\n",
    "choice = int(input('Enter the choice:'))\n",
    "if choice == 1:\n",
    "    print('Square:', num * num)\n",
    "elif choice == 2:\n",
    "    print('Cube:', num ** 3)\n",
    "elif choice == 3:\n",
    "    if num > 0:\n",
    "        print('Positive')\n",
    "    else:\n",
    "        print('Negative')\n",
    "elif choice == 4:\n",
    "    if num % 2 == 0:\n",
    "        print('Even')\n",
    "    else:\n",
    "        print('Odd')\n",
    "else:\n",
    "    print('Wrong Choice')"
   ]
  },
  {
   "cell_type": "code",
   "execution_count": null,
   "id": "1c88f4a7",
   "metadata": {},
   "outputs": [],
   "source": []
  }
 ],
 "metadata": {
  "kernelspec": {
   "display_name": "Python 3",
   "language": "python",
   "name": "python3"
  },
  "language_info": {
   "codemirror_mode": {
    "name": "ipython",
    "version": 3
   },
   "file_extension": ".py",
   "mimetype": "text/x-python",
   "name": "python",
   "nbconvert_exporter": "python",
   "pygments_lexer": "ipython3",
   "version": "3.8.10"
  }
 },
 "nbformat": 4,
 "nbformat_minor": 5
}
