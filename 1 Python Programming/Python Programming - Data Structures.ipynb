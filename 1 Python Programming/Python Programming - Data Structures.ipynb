{
 "cells": [
  {
   "cell_type": "code",
   "execution_count": 1,
   "id": "5160225a",
   "metadata": {},
   "outputs": [
    {
     "data": {
      "text/plain": [
       "list"
      ]
     },
     "execution_count": 1,
     "metadata": {},
     "output_type": "execute_result"
    }
   ],
   "source": [
    "num = [5,3,2,7,6,8]\n",
    "type(num)"
   ]
  },
  {
   "cell_type": "code",
   "execution_count": 2,
   "id": "28bc46e2",
   "metadata": {},
   "outputs": [
    {
     "data": {
      "text/plain": [
       "tuple"
      ]
     },
     "execution_count": 2,
     "metadata": {},
     "output_type": "execute_result"
    }
   ],
   "source": [
    "num = (5,3,2,7,6,8)\n",
    "type(num)"
   ]
  },
  {
   "cell_type": "code",
   "execution_count": 3,
   "id": "facc0d20",
   "metadata": {},
   "outputs": [
    {
     "data": {
      "text/plain": [
       "set"
      ]
     },
     "execution_count": 3,
     "metadata": {},
     "output_type": "execute_result"
    }
   ],
   "source": [
    "num = {5,3,2,7,6,8}\n",
    "type(num)"
   ]
  },
  {
   "cell_type": "code",
   "execution_count": 4,
   "id": "93c52684",
   "metadata": {},
   "outputs": [
    {
     "data": {
      "text/plain": [
       "dict"
      ]
     },
     "execution_count": 4,
     "metadata": {},
     "output_type": "execute_result"
    }
   ],
   "source": [
    "num = {5:3,2:7,6:8}\n",
    "type(num)"
   ]
  },
  {
   "cell_type": "markdown",
   "id": "7b638a95",
   "metadata": {},
   "source": [
    "### List"
   ]
  },
  {
   "cell_type": "code",
   "execution_count": 6,
   "id": "83a70ff4",
   "metadata": {},
   "outputs": [],
   "source": [
    "num = [45,78,12,38,61,12,79]"
   ]
  },
  {
   "cell_type": "code",
   "execution_count": 7,
   "id": "3cde4d9b",
   "metadata": {},
   "outputs": [
    {
     "data": {
      "text/plain": [
       "list"
      ]
     },
     "execution_count": 7,
     "metadata": {},
     "output_type": "execute_result"
    }
   ],
   "source": [
    "type(num)"
   ]
  },
  {
   "cell_type": "markdown",
   "id": "c4898d0c",
   "metadata": {},
   "source": [
    "#### accessing an element"
   ]
  },
  {
   "cell_type": "code",
   "execution_count": 8,
   "id": "6717972f",
   "metadata": {},
   "outputs": [
    {
     "data": {
      "text/plain": [
       "78"
      ]
     },
     "execution_count": 8,
     "metadata": {},
     "output_type": "execute_result"
    }
   ],
   "source": [
    "num[1]"
   ]
  },
  {
   "cell_type": "code",
   "execution_count": 9,
   "id": "40cbe125",
   "metadata": {},
   "outputs": [],
   "source": [
    "num[1] = 47"
   ]
  },
  {
   "cell_type": "code",
   "execution_count": 10,
   "id": "91a1c814",
   "metadata": {},
   "outputs": [
    {
     "data": {
      "text/plain": [
       "[45, 47, 12, 38, 61, 12, 79]"
      ]
     },
     "execution_count": 10,
     "metadata": {},
     "output_type": "execute_result"
    }
   ],
   "source": [
    "num"
   ]
  },
  {
   "cell_type": "markdown",
   "id": "620f8548",
   "metadata": {},
   "source": [
    "#### negative indexing"
   ]
  },
  {
   "cell_type": "code",
   "execution_count": 13,
   "id": "fd2dc83e",
   "metadata": {},
   "outputs": [
    {
     "data": {
      "text/plain": [
       "79"
      ]
     },
     "execution_count": 13,
     "metadata": {},
     "output_type": "execute_result"
    }
   ],
   "source": [
    "num[-1]"
   ]
  },
  {
   "cell_type": "code",
   "execution_count": 14,
   "id": "a52c700d",
   "metadata": {},
   "outputs": [
    {
     "data": {
      "text/plain": [
       "[45, 47, 12, 38, 62, 12, 79]"
      ]
     },
     "execution_count": 14,
     "metadata": {},
     "output_type": "execute_result"
    }
   ],
   "source": [
    "num[-3] = 62\n",
    "num"
   ]
  },
  {
   "cell_type": "markdown",
   "id": "6bca0439",
   "metadata": {},
   "source": [
    "#### mixed element"
   ]
  },
  {
   "cell_type": "code",
   "execution_count": 16,
   "id": "3f7c76aa",
   "metadata": {},
   "outputs": [
    {
     "data": {
      "text/plain": [
       "[56, 89, 'hello', 23.67, 'pune']"
      ]
     },
     "execution_count": 16,
     "metadata": {},
     "output_type": "execute_result"
    }
   ],
   "source": [
    "mix = [56, 89, 'hello', 23.67, 'pune']\n",
    "mix"
   ]
  },
  {
   "cell_type": "code",
   "execution_count": 17,
   "id": "f806a625",
   "metadata": {},
   "outputs": [
    {
     "data": {
      "text/plain": [
       "23.67"
      ]
     },
     "execution_count": 17,
     "metadata": {},
     "output_type": "execute_result"
    }
   ],
   "source": [
    "mix[3]"
   ]
  },
  {
   "cell_type": "code",
   "execution_count": 18,
   "id": "9fcb7b7d",
   "metadata": {},
   "outputs": [
    {
     "data": {
      "text/plain": [
       "['Pune', 'Mumbai', 'Nashik', 'Nagpur', 'Kolhapur']"
      ]
     },
     "execution_count": 18,
     "metadata": {},
     "output_type": "execute_result"
    }
   ],
   "source": [
    "city = ['Pune','Mumbai','Nashik','Nagpur','Kolhapur']\n",
    "city"
   ]
  },
  {
   "cell_type": "markdown",
   "id": "62fbf3be",
   "metadata": {},
   "source": [
    "#### list of list"
   ]
  },
  {
   "cell_type": "code",
   "execution_count": 20,
   "id": "ddc320a7",
   "metadata": {},
   "outputs": [],
   "source": [
    "x = [45, 47, 12, [38, 62], 12, 79]"
   ]
  },
  {
   "cell_type": "code",
   "execution_count": 21,
   "id": "f72e574d",
   "metadata": {},
   "outputs": [
    {
     "data": {
      "text/plain": [
       "[38, 62]"
      ]
     },
     "execution_count": 21,
     "metadata": {},
     "output_type": "execute_result"
    }
   ],
   "source": [
    "x[3]"
   ]
  },
  {
   "cell_type": "code",
   "execution_count": 22,
   "id": "92778805",
   "metadata": {},
   "outputs": [
    {
     "data": {
      "text/plain": [
       "62"
      ]
     },
     "execution_count": 22,
     "metadata": {},
     "output_type": "execute_result"
    }
   ],
   "source": [
    "x[3][1]"
   ]
  },
  {
   "cell_type": "code",
   "execution_count": 23,
   "id": "a36ac515",
   "metadata": {},
   "outputs": [],
   "source": [
    "x[3] = 45"
   ]
  },
  {
   "cell_type": "code",
   "execution_count": 24,
   "id": "97dd4354",
   "metadata": {},
   "outputs": [
    {
     "data": {
      "text/plain": [
       "[45, 47, 12, 45, 12, 79]"
      ]
     },
     "execution_count": 24,
     "metadata": {},
     "output_type": "execute_result"
    }
   ],
   "source": [
    "x"
   ]
  },
  {
   "cell_type": "markdown",
   "id": "ec1742dc",
   "metadata": {},
   "source": [
    "#### slicing of list"
   ]
  },
  {
   "cell_type": "code",
   "execution_count": 26,
   "id": "fb3fe7e5",
   "metadata": {},
   "outputs": [
    {
     "data": {
      "text/plain": [
       "[45, 47, 12, 38, 62, 12, 79]"
      ]
     },
     "execution_count": 26,
     "metadata": {},
     "output_type": "execute_result"
    }
   ],
   "source": [
    "num"
   ]
  },
  {
   "cell_type": "code",
   "execution_count": 27,
   "id": "d06dd865",
   "metadata": {},
   "outputs": [
    {
     "data": {
      "text/plain": [
       "[47, 12, 38]"
      ]
     },
     "execution_count": 27,
     "metadata": {},
     "output_type": "execute_result"
    }
   ],
   "source": [
    "x = num[1:4]\n",
    "x"
   ]
  },
  {
   "cell_type": "code",
   "execution_count": 29,
   "id": "14c9199e",
   "metadata": {},
   "outputs": [
    {
     "data": {
      "text/plain": [
       "[45, 47, 12, 38, 62, 12]"
      ]
     },
     "execution_count": 29,
     "metadata": {},
     "output_type": "execute_result"
    }
   ],
   "source": [
    "num[:6]"
   ]
  },
  {
   "cell_type": "code",
   "execution_count": 30,
   "id": "4d337480",
   "metadata": {},
   "outputs": [
    {
     "data": {
      "text/plain": [
       "[38, 62, 12, 79]"
      ]
     },
     "execution_count": 30,
     "metadata": {},
     "output_type": "execute_result"
    }
   ],
   "source": [
    "num[3:]"
   ]
  },
  {
   "cell_type": "code",
   "execution_count": 31,
   "id": "09ab08a3",
   "metadata": {},
   "outputs": [
    {
     "data": {
      "text/plain": [
       "[45, 47, 12, 38, 62, 12, 79]"
      ]
     },
     "execution_count": 31,
     "metadata": {},
     "output_type": "execute_result"
    }
   ],
   "source": [
    "num[:]"
   ]
  },
  {
   "cell_type": "code",
   "execution_count": 33,
   "id": "ad39f1c8",
   "metadata": {},
   "outputs": [],
   "source": [
    "num[1:4] = [74, 83, 12]"
   ]
  },
  {
   "cell_type": "code",
   "execution_count": 34,
   "id": "b9ef1688",
   "metadata": {},
   "outputs": [
    {
     "data": {
      "text/plain": [
       "[45, 74, 83, 12, 62, 12, 79]"
      ]
     },
     "execution_count": 34,
     "metadata": {},
     "output_type": "execute_result"
    }
   ],
   "source": [
    "num"
   ]
  },
  {
   "cell_type": "markdown",
   "id": "a68a6333",
   "metadata": {},
   "source": [
    "#### Find an element"
   ]
  },
  {
   "cell_type": "code",
   "execution_count": 36,
   "id": "1e903e2f",
   "metadata": {},
   "outputs": [
    {
     "data": {
      "text/plain": [
       "[45, 74, 83, 12, 62, 12, 79]"
      ]
     },
     "execution_count": 36,
     "metadata": {},
     "output_type": "execute_result"
    }
   ],
   "source": [
    "num"
   ]
  },
  {
   "cell_type": "code",
   "execution_count": 37,
   "id": "7c4274d4",
   "metadata": {},
   "outputs": [
    {
     "data": {
      "text/plain": [
       "True"
      ]
     },
     "execution_count": 37,
     "metadata": {},
     "output_type": "execute_result"
    }
   ],
   "source": [
    "62 in num"
   ]
  },
  {
   "cell_type": "code",
   "execution_count": 38,
   "id": "4df30761",
   "metadata": {},
   "outputs": [
    {
     "data": {
      "text/plain": [
       "False"
      ]
     },
     "execution_count": 38,
     "metadata": {},
     "output_type": "execute_result"
    }
   ],
   "source": [
    "74 not in num"
   ]
  },
  {
   "cell_type": "code",
   "execution_count": 39,
   "id": "ad7e59bc",
   "metadata": {},
   "outputs": [
    {
     "data": {
      "text/plain": [
       "True"
      ]
     },
     "execution_count": 39,
     "metadata": {},
     "output_type": "execute_result"
    }
   ],
   "source": [
    "75 not in num"
   ]
  },
  {
   "cell_type": "markdown",
   "id": "7a789a6b",
   "metadata": {},
   "source": [
    "#### Delete an element"
   ]
  },
  {
   "cell_type": "code",
   "execution_count": 41,
   "id": "1937641b",
   "metadata": {},
   "outputs": [
    {
     "data": {
      "text/plain": [
       "[45, 74, 83, 12, 62, 12, 79]"
      ]
     },
     "execution_count": 41,
     "metadata": {},
     "output_type": "execute_result"
    }
   ],
   "source": [
    "num"
   ]
  },
  {
   "cell_type": "code",
   "execution_count": 43,
   "id": "7070d531",
   "metadata": {},
   "outputs": [],
   "source": [
    "del num[1]"
   ]
  },
  {
   "cell_type": "code",
   "execution_count": 44,
   "id": "f7454d6f",
   "metadata": {},
   "outputs": [
    {
     "data": {
      "text/plain": [
       "[45, 83, 12, 62, 12, 79]"
      ]
     },
     "execution_count": 44,
     "metadata": {},
     "output_type": "execute_result"
    }
   ],
   "source": [
    "num"
   ]
  },
  {
   "cell_type": "markdown",
   "id": "8f3aa3f6",
   "metadata": {},
   "source": [
    "#### Arithmetic operations"
   ]
  },
  {
   "cell_type": "code",
   "execution_count": 46,
   "id": "b3105622",
   "metadata": {},
   "outputs": [
    {
     "data": {
      "text/plain": [
       "[45, 83, 12, 62, 12, 79]"
      ]
     },
     "execution_count": 46,
     "metadata": {},
     "output_type": "execute_result"
    }
   ],
   "source": [
    "num"
   ]
  },
  {
   "cell_type": "code",
   "execution_count": 47,
   "id": "54a5c3ab",
   "metadata": {},
   "outputs": [
    {
     "data": {
      "text/plain": [
       "[45, 83, 12, 62, 12, 79, 45, 83, 12, 62, 12, 79]"
      ]
     },
     "execution_count": 47,
     "metadata": {},
     "output_type": "execute_result"
    }
   ],
   "source": [
    "num * 2"
   ]
  },
  {
   "cell_type": "code",
   "execution_count": 48,
   "id": "6524c800",
   "metadata": {},
   "outputs": [
    {
     "data": {
      "text/plain": [
       "[45, 83, 12, 62, 12, 79, 34, 82]"
      ]
     },
     "execution_count": 48,
     "metadata": {},
     "output_type": "execute_result"
    }
   ],
   "source": [
    "num + [34, 82]"
   ]
  },
  {
   "cell_type": "code",
   "execution_count": 49,
   "id": "8a304b8b",
   "metadata": {},
   "outputs": [],
   "source": [
    "num += [34, 82]"
   ]
  },
  {
   "cell_type": "code",
   "execution_count": 50,
   "id": "8370a526",
   "metadata": {},
   "outputs": [
    {
     "data": {
      "text/plain": [
       "[45, 83, 12, 62, 12, 79, 34, 82]"
      ]
     },
     "execution_count": 50,
     "metadata": {},
     "output_type": "execute_result"
    }
   ],
   "source": [
    "num"
   ]
  },
  {
   "cell_type": "markdown",
   "id": "04350b40",
   "metadata": {},
   "source": [
    "#### Iterating the list"
   ]
  },
  {
   "cell_type": "code",
   "execution_count": 61,
   "id": "ca619fe2",
   "metadata": {},
   "outputs": [
    {
     "name": "stdout",
     "output_type": "stream",
     "text": [
      "45 83 12 62 12 79 34 82 "
     ]
    }
   ],
   "source": [
    "for n in num:\n",
    "    print(n, end=' ')"
   ]
  },
  {
   "cell_type": "code",
   "execution_count": 62,
   "id": "562d0c64",
   "metadata": {},
   "outputs": [
    {
     "name": "stdout",
     "output_type": "stream",
     "text": [
      "22.5 41.5 6.0 31.0 6.0 39.5 17.0 41.0 "
     ]
    }
   ],
   "source": [
    "for n in num:\n",
    "    print(n/2, end=' ')"
   ]
  },
  {
   "cell_type": "code",
   "execution_count": 63,
   "id": "71f6c734",
   "metadata": {},
   "outputs": [
    {
     "name": "stdout",
     "output_type": "stream",
     "text": [
      "2025 6889 144 3844 144 6241 1156 6724 "
     ]
    }
   ],
   "source": [
    "for n in num:\n",
    "    print(n*n, end=' ')"
   ]
  },
  {
   "cell_type": "code",
   "execution_count": 66,
   "id": "9ec9fb9c",
   "metadata": {},
   "outputs": [
    {
     "name": "stdout",
     "output_type": "stream",
     "text": [
      "45\n",
      "83\n",
      "79\n"
     ]
    }
   ],
   "source": [
    "# Filter the odd numbers from this list\n",
    "\n",
    "for n in num:\n",
    "    if n%2 == 1:\n",
    "        print(n)"
   ]
  },
  {
   "cell_type": "markdown",
   "id": "2593ca90",
   "metadata": {},
   "source": [
    "#### List comprehension - Map"
   ]
  },
  {
   "cell_type": "code",
   "execution_count": 68,
   "id": "21206d21",
   "metadata": {},
   "outputs": [
    {
     "data": {
      "text/plain": [
       "[22.5, 41.5, 6.0, 31.0, 6.0, 39.5, 17.0, 41.0]"
      ]
     },
     "execution_count": 68,
     "metadata": {},
     "output_type": "execute_result"
    }
   ],
   "source": [
    "x = [n/2 for n in num]\n",
    "x"
   ]
  },
  {
   "cell_type": "code",
   "execution_count": 69,
   "id": "41d7fe70",
   "metadata": {},
   "outputs": [
    {
     "data": {
      "text/plain": [
       "[2025, 6889, 144, 3844, 144, 6241, 1156, 6724]"
      ]
     },
     "execution_count": 69,
     "metadata": {},
     "output_type": "execute_result"
    }
   ],
   "source": [
    "x = [n**2 for n in num]\n",
    "x"
   ]
  },
  {
   "cell_type": "code",
   "execution_count": 70,
   "id": "fe3d5114",
   "metadata": {},
   "outputs": [
    {
     "data": {
      "text/plain": [
       "[50, 88, 17, 67, 17, 84, 39, 87]"
      ]
     },
     "execution_count": 70,
     "metadata": {},
     "output_type": "execute_result"
    }
   ],
   "source": [
    "x = [n+5 for n in num]\n",
    "x"
   ]
  },
  {
   "cell_type": "code",
   "execution_count": 73,
   "id": "7d17ee15",
   "metadata": {},
   "outputs": [
    {
     "data": {
      "text/plain": [
       "['45', '83', '12', '62', '12', '79', '34', '82']"
      ]
     },
     "execution_count": 73,
     "metadata": {},
     "output_type": "execute_result"
    }
   ],
   "source": [
    "# create the list with all string values\n",
    "x = [str(n) for n in num]\n",
    "x"
   ]
  },
  {
   "cell_type": "markdown",
   "id": "1705197c",
   "metadata": {},
   "source": [
    "#### List comprehension - filter"
   ]
  },
  {
   "cell_type": "code",
   "execution_count": 76,
   "id": "0e93f51d",
   "metadata": {},
   "outputs": [
    {
     "data": {
      "text/plain": [
       "[83, 62, 79, 82]"
      ]
     },
     "execution_count": 76,
     "metadata": {},
     "output_type": "execute_result"
    }
   ],
   "source": [
    "x = [n for n in num if n > 50]\n",
    "x"
   ]
  },
  {
   "cell_type": "code",
   "execution_count": 77,
   "id": "0ea30a61",
   "metadata": {},
   "outputs": [
    {
     "data": {
      "text/plain": [
       "[45, 83, 79]"
      ]
     },
     "execution_count": 77,
     "metadata": {},
     "output_type": "execute_result"
    }
   ],
   "source": [
    "# Extract odd numbers\n",
    "x = [n for n in num if n % 2 == 1]\n",
    "x"
   ]
  },
  {
   "cell_type": "code",
   "execution_count": 78,
   "id": "d0e5fc72",
   "metadata": {},
   "outputs": [
    {
     "data": {
      "text/plain": [
       "[12, 62, 12, 34, 82]"
      ]
     },
     "execution_count": 78,
     "metadata": {},
     "output_type": "execute_result"
    }
   ],
   "source": [
    "# Extract even numbers\n",
    "x = [n for n in num if n % 2 == 0]\n",
    "x"
   ]
  },
  {
   "cell_type": "code",
   "execution_count": 79,
   "id": "4ec9cc38",
   "metadata": {},
   "outputs": [
    {
     "data": {
      "text/plain": [
       "[45, 83, 12, 62, 12, 79, 34, 82]"
      ]
     },
     "execution_count": 79,
     "metadata": {},
     "output_type": "execute_result"
    }
   ],
   "source": [
    "num"
   ]
  },
  {
   "cell_type": "code",
   "execution_count": 80,
   "id": "01598afd",
   "metadata": {},
   "outputs": [
    {
     "data": {
      "text/plain": [
       "[46, 84, 80]"
      ]
     },
     "execution_count": 80,
     "metadata": {},
     "output_type": "execute_result"
    }
   ],
   "source": [
    "x = [n+1 for n in num if n % 2 == 1]\n",
    "x"
   ]
  },
  {
   "cell_type": "markdown",
   "id": "123f2bef",
   "metadata": {},
   "source": [
    "#### Empty list"
   ]
  },
  {
   "cell_type": "code",
   "execution_count": 82,
   "id": "cf0e4b67",
   "metadata": {},
   "outputs": [],
   "source": [
    "e = []"
   ]
  },
  {
   "cell_type": "code",
   "execution_count": 83,
   "id": "475731ad",
   "metadata": {},
   "outputs": [
    {
     "data": {
      "text/plain": [
       "list"
      ]
     },
     "execution_count": 83,
     "metadata": {},
     "output_type": "execute_result"
    }
   ],
   "source": [
    "type(e)"
   ]
  },
  {
   "cell_type": "code",
   "execution_count": 84,
   "id": "fda3b632",
   "metadata": {},
   "outputs": [
    {
     "data": {
      "text/plain": [
       "[]"
      ]
     },
     "execution_count": 84,
     "metadata": {},
     "output_type": "execute_result"
    }
   ],
   "source": [
    "e"
   ]
  },
  {
   "cell_type": "code",
   "execution_count": 85,
   "id": "9ca2ef9a",
   "metadata": {},
   "outputs": [
    {
     "ename": "IndexError",
     "evalue": "list index out of range",
     "output_type": "error",
     "traceback": [
      "\u001b[0;31m---------------------------------------------------------------------------\u001b[0m",
      "\u001b[0;31mIndexError\u001b[0m                                Traceback (most recent call last)",
      "\u001b[0;32m<ipython-input-85-8088862005ba>\u001b[0m in \u001b[0;36m<module>\u001b[0;34m\u001b[0m\n\u001b[0;32m----> 1\u001b[0;31m \u001b[0me\u001b[0m\u001b[0;34m[\u001b[0m\u001b[0;36m0\u001b[0m\u001b[0;34m]\u001b[0m\u001b[0;34m\u001b[0m\u001b[0;34m\u001b[0m\u001b[0m\n\u001b[0m",
      "\u001b[0;31mIndexError\u001b[0m: list index out of range"
     ]
    }
   ],
   "source": [
    "e[0]"
   ]
  },
  {
   "cell_type": "code",
   "execution_count": 86,
   "id": "1e3d5ccf",
   "metadata": {},
   "outputs": [
    {
     "data": {
      "text/plain": [
       "[34]"
      ]
     },
     "execution_count": 86,
     "metadata": {},
     "output_type": "execute_result"
    }
   ],
   "source": [
    "e += [34]\n",
    "e"
   ]
  },
  {
   "cell_type": "code",
   "execution_count": 87,
   "id": "c3075a77",
   "metadata": {},
   "outputs": [
    {
     "data": {
      "text/plain": [
       "[34, 12]"
      ]
     },
     "execution_count": 87,
     "metadata": {},
     "output_type": "execute_result"
    }
   ],
   "source": [
    "e += [12]\n",
    "e"
   ]
  },
  {
   "cell_type": "code",
   "execution_count": 88,
   "id": "426df4fa",
   "metadata": {},
   "outputs": [
    {
     "data": {
      "text/plain": [
       "[34, 12, 19]"
      ]
     },
     "execution_count": 88,
     "metadata": {},
     "output_type": "execute_result"
    }
   ],
   "source": [
    "e += [19]\n",
    "e"
   ]
  },
  {
   "cell_type": "code",
   "execution_count": 89,
   "id": "19188b5a",
   "metadata": {},
   "outputs": [
    {
     "data": {
      "text/plain": [
       "[]"
      ]
     },
     "execution_count": 89,
     "metadata": {},
     "output_type": "execute_result"
    }
   ],
   "source": [
    "v = list()\n",
    "v"
   ]
  },
  {
   "cell_type": "markdown",
   "id": "79401e01",
   "metadata": {},
   "source": [
    "#### Unwrapping the data"
   ]
  },
  {
   "cell_type": "code",
   "execution_count": 91,
   "id": "89719790",
   "metadata": {},
   "outputs": [],
   "source": [
    "x = [67, 23, 56]"
   ]
  },
  {
   "cell_type": "code",
   "execution_count": 92,
   "id": "140456d0",
   "metadata": {},
   "outputs": [],
   "source": [
    "a, b, c = x"
   ]
  },
  {
   "cell_type": "code",
   "execution_count": 93,
   "id": "a667ca08",
   "metadata": {},
   "outputs": [
    {
     "data": {
      "text/plain": [
       "67"
      ]
     },
     "execution_count": 93,
     "metadata": {},
     "output_type": "execute_result"
    }
   ],
   "source": [
    "a"
   ]
  },
  {
   "cell_type": "code",
   "execution_count": 94,
   "id": "438cbb02",
   "metadata": {},
   "outputs": [
    {
     "data": {
      "text/plain": [
       "23"
      ]
     },
     "execution_count": 94,
     "metadata": {},
     "output_type": "execute_result"
    }
   ],
   "source": [
    "b"
   ]
  },
  {
   "cell_type": "code",
   "execution_count": 95,
   "id": "c53298fe",
   "metadata": {},
   "outputs": [
    {
     "data": {
      "text/plain": [
       "56"
      ]
     },
     "execution_count": 95,
     "metadata": {},
     "output_type": "execute_result"
    }
   ],
   "source": [
    "c"
   ]
  },
  {
   "cell_type": "markdown",
   "id": "d97ca95b",
   "metadata": {},
   "source": [
    "#### Functions on list"
   ]
  },
  {
   "cell_type": "code",
   "execution_count": 97,
   "id": "66706dfe",
   "metadata": {},
   "outputs": [
    {
     "data": {
      "text/plain": [
       "8"
      ]
     },
     "execution_count": 97,
     "metadata": {},
     "output_type": "execute_result"
    }
   ],
   "source": [
    "len(num)"
   ]
  },
  {
   "cell_type": "code",
   "execution_count": 98,
   "id": "ddccccf4",
   "metadata": {},
   "outputs": [
    {
     "data": {
      "text/plain": [
       "12"
      ]
     },
     "execution_count": 98,
     "metadata": {},
     "output_type": "execute_result"
    }
   ],
   "source": [
    "min(num)"
   ]
  },
  {
   "cell_type": "code",
   "execution_count": 99,
   "id": "875c204d",
   "metadata": {},
   "outputs": [
    {
     "data": {
      "text/plain": [
       "83"
      ]
     },
     "execution_count": 99,
     "metadata": {},
     "output_type": "execute_result"
    }
   ],
   "source": [
    "max(num)"
   ]
  },
  {
   "cell_type": "code",
   "execution_count": 100,
   "id": "f2135bcd",
   "metadata": {},
   "outputs": [
    {
     "data": {
      "text/plain": [
       "409"
      ]
     },
     "execution_count": 100,
     "metadata": {},
     "output_type": "execute_result"
    }
   ],
   "source": [
    "sum(num)"
   ]
  },
  {
   "cell_type": "code",
   "execution_count": 101,
   "id": "ada8411d",
   "metadata": {},
   "outputs": [
    {
     "data": {
      "text/plain": [
       "[12, 12, 34, 45, 62, 79, 82, 83]"
      ]
     },
     "execution_count": 101,
     "metadata": {},
     "output_type": "execute_result"
    }
   ],
   "source": [
    "sorted(num)"
   ]
  },
  {
   "cell_type": "code",
   "execution_count": 102,
   "id": "dc5131ee",
   "metadata": {},
   "outputs": [
    {
     "data": {
      "text/plain": [
       "[83, 82, 79, 62, 45, 34, 12, 12]"
      ]
     },
     "execution_count": 102,
     "metadata": {},
     "output_type": "execute_result"
    }
   ],
   "source": [
    "sorted(num, reverse=True)"
   ]
  },
  {
   "cell_type": "code",
   "execution_count": 104,
   "id": "af35cef0",
   "metadata": {},
   "outputs": [
    {
     "name": "stdout",
     "output_type": "stream",
     "text": [
      "List is: ['T', 'u', 's', 'h', 'a', 'r']\n"
     ]
    }
   ],
   "source": [
    "name = 'Tushar'\n",
    "x = list(name)\n",
    "print('List is:', x)"
   ]
  },
  {
   "cell_type": "markdown",
   "id": "f0907fbe",
   "metadata": {},
   "source": [
    "#### Methods"
   ]
  },
  {
   "cell_type": "code",
   "execution_count": 106,
   "id": "1c86717e",
   "metadata": {},
   "outputs": [
    {
     "data": {
      "text/plain": [
       "[45, 83, 12, 62, 12, 79, 34, 82]"
      ]
     },
     "execution_count": 106,
     "metadata": {},
     "output_type": "execute_result"
    }
   ],
   "source": [
    "num"
   ]
  },
  {
   "cell_type": "code",
   "execution_count": 107,
   "id": "4655d1b9",
   "metadata": {},
   "outputs": [
    {
     "data": {
      "text/plain": [
       "[45, 83, 12, 62, 12, 79, 34, 82, 30]"
      ]
     },
     "execution_count": 107,
     "metadata": {},
     "output_type": "execute_result"
    }
   ],
   "source": [
    "num.append(30)\n",
    "num"
   ]
  },
  {
   "cell_type": "code",
   "execution_count": 108,
   "id": "336781d0",
   "metadata": {},
   "outputs": [],
   "source": [
    "x = [56,21,49]\n",
    "y = [56,21,49]"
   ]
  },
  {
   "cell_type": "code",
   "execution_count": 109,
   "id": "b9c9d5fa",
   "metadata": {},
   "outputs": [],
   "source": [
    "x.append([12,23,34])\n",
    "y.extend([12,23,34])"
   ]
  },
  {
   "cell_type": "code",
   "execution_count": 110,
   "id": "db91a8e0",
   "metadata": {},
   "outputs": [
    {
     "data": {
      "text/plain": [
       "[56, 21, 49, [12, 23, 34]]"
      ]
     },
     "execution_count": 110,
     "metadata": {},
     "output_type": "execute_result"
    }
   ],
   "source": [
    "x"
   ]
  },
  {
   "cell_type": "code",
   "execution_count": 111,
   "id": "14ab2f8b",
   "metadata": {},
   "outputs": [
    {
     "data": {
      "text/plain": [
       "[56, 21, 49, 12, 23, 34]"
      ]
     },
     "execution_count": 111,
     "metadata": {},
     "output_type": "execute_result"
    }
   ],
   "source": [
    "y"
   ]
  },
  {
   "cell_type": "code",
   "execution_count": 120,
   "id": "d65937be",
   "metadata": {},
   "outputs": [
    {
     "data": {
      "text/plain": [
       "[45, 83, 12, 62, 12, 79, 34, 82, 30]"
      ]
     },
     "execution_count": 120,
     "metadata": {},
     "output_type": "execute_result"
    }
   ],
   "source": [
    "num"
   ]
  },
  {
   "cell_type": "code",
   "execution_count": 121,
   "id": "69508ea4",
   "metadata": {},
   "outputs": [],
   "source": [
    "num.insert(2, 57)"
   ]
  },
  {
   "cell_type": "code",
   "execution_count": 122,
   "id": "eb763d8d",
   "metadata": {},
   "outputs": [
    {
     "data": {
      "text/plain": [
       "[45, 83, 57, 12, 62, 12, 79, 34, 82, 30]"
      ]
     },
     "execution_count": 122,
     "metadata": {},
     "output_type": "execute_result"
    }
   ],
   "source": [
    "num"
   ]
  },
  {
   "cell_type": "markdown",
   "id": "8aed5929",
   "metadata": {},
   "source": [
    "num.remove(62)\n",
    "num"
   ]
  },
  {
   "cell_type": "code",
   "execution_count": 124,
   "id": "ba9efbb0",
   "metadata": {},
   "outputs": [
    {
     "data": {
      "text/plain": [
       "[45, 83, 57, 12, 12, 79, 34, 82, 30]"
      ]
     },
     "execution_count": 124,
     "metadata": {},
     "output_type": "execute_result"
    }
   ],
   "source": [
    "num"
   ]
  },
  {
   "cell_type": "code",
   "execution_count": 125,
   "id": "34271426",
   "metadata": {},
   "outputs": [
    {
     "data": {
      "text/plain": [
       "6"
      ]
     },
     "execution_count": 125,
     "metadata": {},
     "output_type": "execute_result"
    }
   ],
   "source": [
    "# find the index position of a value\n",
    "num.index(34)"
   ]
  },
  {
   "cell_type": "code",
   "execution_count": 126,
   "id": "28a49745",
   "metadata": {},
   "outputs": [
    {
     "data": {
      "text/plain": [
       "2"
      ]
     },
     "execution_count": 126,
     "metadata": {},
     "output_type": "execute_result"
    }
   ],
   "source": [
    "# find total number of times the value is present\n",
    "num.count(12)"
   ]
  },
  {
   "cell_type": "code",
   "execution_count": 127,
   "id": "ecf4d01a",
   "metadata": {},
   "outputs": [
    {
     "data": {
      "text/plain": [
       "83"
      ]
     },
     "execution_count": 127,
     "metadata": {},
     "output_type": "execute_result"
    }
   ],
   "source": [
    "num.pop(1)"
   ]
  },
  {
   "cell_type": "code",
   "execution_count": 128,
   "id": "4ef5d99b",
   "metadata": {},
   "outputs": [
    {
     "data": {
      "text/plain": [
       "[45, 57, 12, 12, 79, 34, 82, 30]"
      ]
     },
     "execution_count": 128,
     "metadata": {},
     "output_type": "execute_result"
    }
   ],
   "source": [
    "num"
   ]
  },
  {
   "cell_type": "code",
   "execution_count": 129,
   "id": "8091759e",
   "metadata": {},
   "outputs": [
    {
     "data": {
      "text/plain": [
       "[30, 82, 34, 79, 12, 12, 57, 45]"
      ]
     },
     "execution_count": 129,
     "metadata": {},
     "output_type": "execute_result"
    }
   ],
   "source": [
    "num.reverse()\n",
    "num"
   ]
  },
  {
   "cell_type": "code",
   "execution_count": 132,
   "id": "e254a292",
   "metadata": {},
   "outputs": [
    {
     "name": "stdout",
     "output_type": "stream",
     "text": [
      "4\n",
      "5\n"
     ]
    }
   ],
   "source": [
    "index = 0\n",
    "for x in num:\n",
    "    if x == 12:\n",
    "        print(index)\n",
    "    index += 1"
   ]
  },
  {
   "cell_type": "code",
   "execution_count": 133,
   "id": "0433e3df",
   "metadata": {},
   "outputs": [
    {
     "data": {
      "text/plain": [
       "[12, 12, 30, 34, 45, 57, 79, 82]"
      ]
     },
     "execution_count": 133,
     "metadata": {},
     "output_type": "execute_result"
    }
   ],
   "source": [
    "num.sort()\n",
    "num"
   ]
  },
  {
   "cell_type": "code",
   "execution_count": 134,
   "id": "f69c2b11",
   "metadata": {},
   "outputs": [
    {
     "data": {
      "text/plain": [
       "[82, 79, 57, 45, 34, 30, 12, 12]"
      ]
     },
     "execution_count": 134,
     "metadata": {},
     "output_type": "execute_result"
    }
   ],
   "source": [
    "num.sort(reverse=True)\n",
    "num"
   ]
  },
  {
   "cell_type": "code",
   "execution_count": 135,
   "id": "c0c08dcd",
   "metadata": {},
   "outputs": [
    {
     "data": {
      "text/plain": [
       "[]"
      ]
     },
     "execution_count": 135,
     "metadata": {},
     "output_type": "execute_result"
    }
   ],
   "source": [
    "num.clear()\n",
    "num"
   ]
  },
  {
   "cell_type": "markdown",
   "id": "8fbd8446",
   "metadata": {},
   "source": [
    "#### Read the list from user"
   ]
  },
  {
   "cell_type": "code",
   "execution_count": 137,
   "id": "2380ac4d",
   "metadata": {},
   "outputs": [
    {
     "name": "stdout",
     "output_type": "stream",
     "text": [
      "How many values? 5\n",
      "Enter a number: 67\n",
      "Enter a number: 13\n",
      "Enter a number: 89\n",
      "Enter a number: 72\n",
      "Enter a number: 61\n"
     ]
    }
   ],
   "source": [
    "count = int(input('How many values? '))\n",
    "num = []\n",
    "for n in range(count):\n",
    "    value = int(input('Enter a number: '))\n",
    "    num.append(value)\n",
    "    \n",
    "print('Your list:', num)"
   ]
  },
  {
   "cell_type": "code",
   "execution_count": 138,
   "id": "a1333014",
   "metadata": {},
   "outputs": [
    {
     "data": {
      "text/plain": [
       "[67, 13, 89, 72, 61]"
      ]
     },
     "execution_count": 138,
     "metadata": {},
     "output_type": "execute_result"
    }
   ],
   "source": [
    "num"
   ]
  },
  {
   "cell_type": "code",
   "execution_count": 139,
   "id": "3b38a0c3",
   "metadata": {},
   "outputs": [],
   "source": [
    "# 1. Find the addition of integer values from the list\n",
    "# data = [56, 'hello', 76, 12, 'Pune']"
   ]
  },
  {
   "cell_type": "code",
   "execution_count": 144,
   "id": "cfb9bf47",
   "metadata": {},
   "outputs": [
    {
     "data": {
      "text/plain": [
       "144"
      ]
     },
     "execution_count": 144,
     "metadata": {},
     "output_type": "execute_result"
    }
   ],
   "source": [
    "data = [56, 'hello', 76, 12, 'Pune']\n",
    "x = [str(n) for n in data]\n",
    "x = [int(n) for n in x if n.isdigit()]\n",
    "sum(x)"
   ]
  },
  {
   "cell_type": "code",
   "execution_count": 145,
   "id": "4f0f2f35",
   "metadata": {},
   "outputs": [],
   "source": [
    "# This is a list of some metallic elements.\n",
    "# metals = [ 'silver','gold', ... ]\n",
    "# Make a new list that is almost identical to the\n",
    "# metals list: the new contains the same items, in\n",
    "# the same order, except that it does NOT contain\n",
    "# the item 'copper'."
   ]
  },
  {
   "cell_type": "code",
   "execution_count": 146,
   "id": "36e034d9",
   "metadata": {},
   "outputs": [],
   "source": [
    "metals = [ 'silver','gold','copper','gold','aluminium','copper',\n",
    "          'gold','silver','copper','copper','gold']"
   ]
  },
  {
   "cell_type": "code",
   "execution_count": 148,
   "id": "97ec1326",
   "metadata": {},
   "outputs": [
    {
     "name": "stdout",
     "output_type": "stream",
     "text": [
      "['silver', 'gold', 'gold', 'aluminium', 'gold', 'silver', 'gold']\n"
     ]
    }
   ],
   "source": [
    "new_metals = []\n",
    "for metal in metals:\n",
    "    if metal != 'copper':\n",
    "        new_metals.append(metal)\n",
    "\n",
    "print(new_metals)"
   ]
  },
  {
   "cell_type": "code",
   "execution_count": 149,
   "id": "e86ac41e",
   "metadata": {},
   "outputs": [],
   "source": [
    "num = [5, 6, 2, 8, 9, 1, 3, 7, 4, 0]"
   ]
  },
  {
   "cell_type": "code",
   "execution_count": 150,
   "id": "4d62e6cb",
   "metadata": {},
   "outputs": [],
   "source": [
    "x = num[:5]\n",
    "y = num[5:]"
   ]
  },
  {
   "cell_type": "code",
   "execution_count": 151,
   "id": "a48f1941",
   "metadata": {},
   "outputs": [],
   "source": [
    "y.sort()"
   ]
  },
  {
   "cell_type": "code",
   "execution_count": 152,
   "id": "6d12815d",
   "metadata": {},
   "outputs": [
    {
     "data": {
      "text/plain": [
       "[5, 6, 2, 8, 9, 0, 1, 3, 4, 7]"
      ]
     },
     "execution_count": 152,
     "metadata": {},
     "output_type": "execute_result"
    }
   ],
   "source": [
    "num = x + y\n",
    "num"
   ]
  },
  {
   "cell_type": "markdown",
   "id": "234814c8",
   "metadata": {},
   "source": [
    "### tuple"
   ]
  },
  {
   "cell_type": "code",
   "execution_count": 154,
   "id": "14addafc",
   "metadata": {},
   "outputs": [],
   "source": [
    "num = (56,12,38,63,19,39)"
   ]
  },
  {
   "cell_type": "code",
   "execution_count": 155,
   "id": "800a40e8",
   "metadata": {},
   "outputs": [
    {
     "data": {
      "text/plain": [
       "19"
      ]
     },
     "execution_count": 155,
     "metadata": {},
     "output_type": "execute_result"
    }
   ],
   "source": [
    "num[4]"
   ]
  },
  {
   "cell_type": "code",
   "execution_count": 156,
   "id": "a5f1e618",
   "metadata": {},
   "outputs": [
    {
     "ename": "TypeError",
     "evalue": "'tuple' object does not support item assignment",
     "output_type": "error",
     "traceback": [
      "\u001b[0;31m---------------------------------------------------------------------------\u001b[0m",
      "\u001b[0;31mTypeError\u001b[0m                                 Traceback (most recent call last)",
      "\u001b[0;32m<ipython-input-156-efca43d4311f>\u001b[0m in \u001b[0;36m<module>\u001b[0;34m\u001b[0m\n\u001b[0;32m----> 1\u001b[0;31m \u001b[0mnum\u001b[0m\u001b[0;34m[\u001b[0m\u001b[0;36m4\u001b[0m\u001b[0;34m]\u001b[0m \u001b[0;34m=\u001b[0m \u001b[0;36m13\u001b[0m\u001b[0;34m\u001b[0m\u001b[0;34m\u001b[0m\u001b[0m\n\u001b[0m",
      "\u001b[0;31mTypeError\u001b[0m: 'tuple' object does not support item assignment"
     ]
    }
   ],
   "source": [
    "num[4] = 13"
   ]
  },
  {
   "cell_type": "code",
   "execution_count": 157,
   "id": "a152eca2",
   "metadata": {},
   "outputs": [
    {
     "data": {
      "text/plain": [
       "(38, 63, 19, 39)"
      ]
     },
     "execution_count": 157,
     "metadata": {},
     "output_type": "execute_result"
    }
   ],
   "source": [
    "num[2:]"
   ]
  },
  {
   "cell_type": "code",
   "execution_count": 159,
   "id": "9756acf5",
   "metadata": {},
   "outputs": [
    {
     "name": "stdout",
     "output_type": "stream",
     "text": [
      "56 12 38 63 19 39 "
     ]
    }
   ],
   "source": [
    "for n in num:\n",
    "    print(n, end=' ')"
   ]
  },
  {
   "cell_type": "code",
   "execution_count": 160,
   "id": "fb433256",
   "metadata": {},
   "outputs": [
    {
     "data": {
      "text/plain": [
       "39"
      ]
     },
     "execution_count": 160,
     "metadata": {},
     "output_type": "execute_result"
    }
   ],
   "source": [
    "num[-1]"
   ]
  },
  {
   "cell_type": "code",
   "execution_count": 161,
   "id": "d2ec6f76",
   "metadata": {},
   "outputs": [
    {
     "data": {
      "text/plain": [
       "True"
      ]
     },
     "execution_count": 161,
     "metadata": {},
     "output_type": "execute_result"
    }
   ],
   "source": [
    "63 in num"
   ]
  },
  {
   "cell_type": "code",
   "execution_count": 162,
   "id": "ab4c80fd",
   "metadata": {},
   "outputs": [
    {
     "data": {
      "text/plain": [
       "1"
      ]
     },
     "execution_count": 162,
     "metadata": {},
     "output_type": "execute_result"
    }
   ],
   "source": [
    "num.count(12)"
   ]
  },
  {
   "cell_type": "markdown",
   "id": "e912a942",
   "metadata": {},
   "source": [
    "#### Set"
   ]
  },
  {
   "cell_type": "code",
   "execution_count": 164,
   "id": "8d2c25f6",
   "metadata": {},
   "outputs": [],
   "source": [
    "s = {4,5,3,2,6,5,7,6,5,4,3,4,5}"
   ]
  },
  {
   "cell_type": "code",
   "execution_count": 165,
   "id": "d74c5328",
   "metadata": {},
   "outputs": [
    {
     "data": {
      "text/plain": [
       "set"
      ]
     },
     "execution_count": 165,
     "metadata": {},
     "output_type": "execute_result"
    }
   ],
   "source": [
    "type(s)"
   ]
  },
  {
   "cell_type": "code",
   "execution_count": 166,
   "id": "a9088aae",
   "metadata": {},
   "outputs": [
    {
     "data": {
      "text/plain": [
       "{2, 3, 4, 5, 6, 7}"
      ]
     },
     "execution_count": 166,
     "metadata": {},
     "output_type": "execute_result"
    }
   ],
   "source": [
    "s"
   ]
  },
  {
   "cell_type": "code",
   "execution_count": 167,
   "id": "2a6577f7",
   "metadata": {},
   "outputs": [
    {
     "data": {
      "text/plain": [
       "{2, 3, 4, 5, 6, 7}"
      ]
     },
     "execution_count": 167,
     "metadata": {},
     "output_type": "execute_result"
    }
   ],
   "source": [
    "s.add(5)\n",
    "s"
   ]
  },
  {
   "cell_type": "code",
   "execution_count": 168,
   "id": "1feb82d3",
   "metadata": {},
   "outputs": [],
   "source": [
    "s.add(8)"
   ]
  },
  {
   "cell_type": "code",
   "execution_count": 169,
   "id": "6ade94a4",
   "metadata": {},
   "outputs": [
    {
     "data": {
      "text/plain": [
       "{2, 3, 4, 5, 6, 7, 8}"
      ]
     },
     "execution_count": 169,
     "metadata": {},
     "output_type": "execute_result"
    }
   ],
   "source": [
    "s"
   ]
  },
  {
   "cell_type": "markdown",
   "id": "f0aa0c54",
   "metadata": {},
   "source": [
    "### Dictionary"
   ]
  },
  {
   "cell_type": "code",
   "execution_count": 171,
   "id": "6cac05d6",
   "metadata": {},
   "outputs": [],
   "source": [
    "# Key-value pairs"
   ]
  },
  {
   "cell_type": "code",
   "execution_count": 172,
   "id": "c634db66",
   "metadata": {},
   "outputs": [],
   "source": [
    "d = {2:67, 4:13, 7:89, 10:24}"
   ]
  },
  {
   "cell_type": "code",
   "execution_count": 173,
   "id": "27017b71",
   "metadata": {},
   "outputs": [
    {
     "data": {
      "text/plain": [
       "{2: 67, 4: 13, 7: 89, 10: 24}"
      ]
     },
     "execution_count": 173,
     "metadata": {},
     "output_type": "execute_result"
    }
   ],
   "source": [
    "d"
   ]
  },
  {
   "cell_type": "code",
   "execution_count": 174,
   "id": "a41dff33",
   "metadata": {},
   "outputs": [
    {
     "data": {
      "text/plain": [
       "dict"
      ]
     },
     "execution_count": 174,
     "metadata": {},
     "output_type": "execute_result"
    }
   ],
   "source": [
    "type(d)"
   ]
  },
  {
   "cell_type": "code",
   "execution_count": 175,
   "id": "7cba48bb",
   "metadata": {},
   "outputs": [
    {
     "data": {
      "text/plain": [
       "13"
      ]
     },
     "execution_count": 175,
     "metadata": {},
     "output_type": "execute_result"
    }
   ],
   "source": [
    "d[4]"
   ]
  },
  {
   "cell_type": "code",
   "execution_count": 177,
   "id": "5771461d",
   "metadata": {},
   "outputs": [
    {
     "data": {
      "text/plain": [
       "{2: 67, 4: 13, 7: 89, 10: 24, 5: 123}"
      ]
     },
     "execution_count": 177,
     "metadata": {},
     "output_type": "execute_result"
    }
   ],
   "source": [
    "d[5] =  123\n",
    "d"
   ]
  },
  {
   "cell_type": "code",
   "execution_count": 178,
   "id": "dfa07a99",
   "metadata": {},
   "outputs": [
    {
     "data": {
      "text/plain": [
       "{2: 67, 4: 'hello', 7: 89, 10: 24, 5: 123}"
      ]
     },
     "execution_count": 178,
     "metadata": {},
     "output_type": "execute_result"
    }
   ],
   "source": [
    "d[4] = 'hello'\n",
    "d"
   ]
  },
  {
   "cell_type": "code",
   "execution_count": null,
   "id": "6e8d340b",
   "metadata": {},
   "outputs": [],
   "source": []
  }
 ],
 "metadata": {
  "kernelspec": {
   "display_name": "Python 3",
   "language": "python",
   "name": "python3"
  },
  "language_info": {
   "codemirror_mode": {
    "name": "ipython",
    "version": 3
   },
   "file_extension": ".py",
   "mimetype": "text/x-python",
   "name": "python",
   "nbconvert_exporter": "python",
   "pygments_lexer": "ipython3",
   "version": "3.8.10"
  }
 },
 "nbformat": 4,
 "nbformat_minor": 5
}
